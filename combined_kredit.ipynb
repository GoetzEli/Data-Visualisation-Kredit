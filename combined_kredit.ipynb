{
 "cells": [
  {
   "cell_type": "markdown",
   "metadata": {},
   "source": [
    "# Kreditwürdigkeit\n"
   ]
  },
  {
   "cell_type": "markdown",
   "metadata": {},
   "source": [
    "### [KR01] Einlesen der CSV Files\n"
   ]
  },
  {
   "cell_type": "code",
   "execution_count": 1,
   "metadata": {},
   "outputs": [],
   "source": [
    "import pandas as pd\n",
    "import matplotlib.pyplot as plt"
   ]
  },
  {
   "cell_type": "code",
   "execution_count": 2,
   "metadata": {},
   "outputs": [],
   "source": [
    "df0 = pd.read_csv('data/loan_approval_0.csv', delimiter='|')\n",
    "df1 = pd.read_csv('data/loan_approval_1.csv', delimiter='|')\n",
    "df2 = pd.read_csv('data/loan_approval_2.csv', delimiter='|')\n",
    "df3 = pd.read_csv('data/loan_approval_3.csv', delimiter='|')\n",
    "df4 = pd.read_csv('data/loan_approval_4.csv', delimiter='|')"
   ]
  },
  {
   "cell_type": "markdown",
   "metadata": {},
   "source": [
    "### [KR02] Zusammenfassung der DataFrames\n"
   ]
  },
  {
   "cell_type": "code",
   "execution_count": 3,
   "metadata": {},
   "outputs": [
    {
     "data": {
      "text/html": [
       "<div>\n",
       "<style scoped>\n",
       "    .dataframe tbody tr th:only-of-type {\n",
       "        vertical-align: middle;\n",
       "    }\n",
       "\n",
       "    .dataframe tbody tr th {\n",
       "        vertical-align: top;\n",
       "    }\n",
       "\n",
       "    .dataframe thead th {\n",
       "        text-align: right;\n",
       "    }\n",
       "</style>\n",
       "<table border=\"1\" class=\"dataframe\">\n",
       "  <thead>\n",
       "    <tr style=\"text-align: right;\">\n",
       "      <th></th>\n",
       "      <th>Num_Kids</th>\n",
       "      <th>Loan_ID</th>\n",
       "      <th>Gender</th>\n",
       "      <th>Married</th>\n",
       "      <th>Dependent_No</th>\n",
       "      <th>Education</th>\n",
       "      <th>Self_Employed</th>\n",
       "      <th>Applicant_Income</th>\n",
       "      <th>CoApplicant_Income</th>\n",
       "      <th>Loan_Amount</th>\n",
       "      <th>Loan_Amount_Term</th>\n",
       "      <th>Credit History</th>\n",
       "      <th>Property_District</th>\n",
       "      <th>Loan_Status</th>\n",
       "    </tr>\n",
       "  </thead>\n",
       "  <tbody>\n",
       "    <tr>\n",
       "      <th>0</th>\n",
       "      <td>-</td>\n",
       "      <td>27471</td>\n",
       "      <td>Male</td>\n",
       "      <td>True</td>\n",
       "      <td>1</td>\n",
       "      <td>Not Graduate</td>\n",
       "      <td>True</td>\n",
       "      <td>4251</td>\n",
       "      <td>34868.0</td>\n",
       "      <td>30000</td>\n",
       "      <td>300</td>\n",
       "      <td>1</td>\n",
       "      <td>CCR</td>\n",
       "      <td>1</td>\n",
       "    </tr>\n",
       "    <tr>\n",
       "      <th>1</th>\n",
       "      <td>-</td>\n",
       "      <td>27472</td>\n",
       "      <td>Male</td>\n",
       "      <td>False</td>\n",
       "      <td>1</td>\n",
       "      <td>Graduate</td>\n",
       "      <td>False</td>\n",
       "      <td>23399</td>\n",
       "      <td>30710.0</td>\n",
       "      <td>30000</td>\n",
       "      <td>60</td>\n",
       "      <td>1</td>\n",
       "      <td>OCR</td>\n",
       "      <td>1</td>\n",
       "    </tr>\n",
       "    <tr>\n",
       "      <th>2</th>\n",
       "      <td>-</td>\n",
       "      <td>27473</td>\n",
       "      <td>Female</td>\n",
       "      <td>False</td>\n",
       "      <td>4</td>\n",
       "      <td>Not Graduate</td>\n",
       "      <td>True</td>\n",
       "      <td>68684</td>\n",
       "      <td>13669.0</td>\n",
       "      <td>50000</td>\n",
       "      <td>180</td>\n",
       "      <td>1</td>\n",
       "      <td>OCR</td>\n",
       "      <td>1</td>\n",
       "    </tr>\n",
       "    <tr>\n",
       "      <th>3</th>\n",
       "      <td>-</td>\n",
       "      <td>27474</td>\n",
       "      <td>Male</td>\n",
       "      <td>False</td>\n",
       "      <td>3</td>\n",
       "      <td>Graduate</td>\n",
       "      <td>True</td>\n",
       "      <td>19825</td>\n",
       "      <td>20862.0</td>\n",
       "      <td>10000</td>\n",
       "      <td>360</td>\n",
       "      <td>0</td>\n",
       "      <td>OCR</td>\n",
       "      <td>1</td>\n",
       "    </tr>\n",
       "    <tr>\n",
       "      <th>4</th>\n",
       "      <td>-</td>\n",
       "      <td>27475</td>\n",
       "      <td>Male</td>\n",
       "      <td>True</td>\n",
       "      <td>3</td>\n",
       "      <td>Not Graduate</td>\n",
       "      <td>True</td>\n",
       "      <td>65643</td>\n",
       "      <td>15199.0</td>\n",
       "      <td>60000</td>\n",
       "      <td>240</td>\n",
       "      <td>0</td>\n",
       "      <td>OCR</td>\n",
       "      <td>1</td>\n",
       "    </tr>\n",
       "    <tr>\n",
       "      <th>...</th>\n",
       "      <td>...</td>\n",
       "      <td>...</td>\n",
       "      <td>...</td>\n",
       "      <td>...</td>\n",
       "      <td>...</td>\n",
       "      <td>...</td>\n",
       "      <td>...</td>\n",
       "      <td>...</td>\n",
       "      <td>...</td>\n",
       "      <td>...</td>\n",
       "      <td>...</td>\n",
       "      <td>...</td>\n",
       "      <td>...</td>\n",
       "      <td>...</td>\n",
       "    </tr>\n",
       "    <tr>\n",
       "      <th>4833</th>\n",
       "      <td>-</td>\n",
       "      <td>25231</td>\n",
       "      <td>Female</td>\n",
       "      <td>True</td>\n",
       "      <td>0</td>\n",
       "      <td>Not Graduate</td>\n",
       "      <td>True</td>\n",
       "      <td>74961</td>\n",
       "      <td>18796.0</td>\n",
       "      <td>20000</td>\n",
       "      <td>240</td>\n",
       "      <td>0</td>\n",
       "      <td>CCR</td>\n",
       "      <td>0</td>\n",
       "    </tr>\n",
       "    <tr>\n",
       "      <th>4834</th>\n",
       "      <td>-</td>\n",
       "      <td>25232</td>\n",
       "      <td>Male</td>\n",
       "      <td>False</td>\n",
       "      <td>3</td>\n",
       "      <td>Not Graduate</td>\n",
       "      <td>True</td>\n",
       "      <td>59475</td>\n",
       "      <td>9950.0</td>\n",
       "      <td>10000</td>\n",
       "      <td>60</td>\n",
       "      <td>0</td>\n",
       "      <td>CCR</td>\n",
       "      <td>1</td>\n",
       "    </tr>\n",
       "    <tr>\n",
       "      <th>4835</th>\n",
       "      <td>-</td>\n",
       "      <td>25233</td>\n",
       "      <td>Male</td>\n",
       "      <td>True</td>\n",
       "      <td>1</td>\n",
       "      <td>Graduate</td>\n",
       "      <td>False</td>\n",
       "      <td>26043</td>\n",
       "      <td>43140.0</td>\n",
       "      <td>50000</td>\n",
       "      <td>240</td>\n",
       "      <td>1</td>\n",
       "      <td>OCR</td>\n",
       "      <td>1</td>\n",
       "    </tr>\n",
       "    <tr>\n",
       "      <th>4836</th>\n",
       "      <td>-</td>\n",
       "      <td>25234</td>\n",
       "      <td>Female</td>\n",
       "      <td>False</td>\n",
       "      <td>0</td>\n",
       "      <td>Not Graduate</td>\n",
       "      <td>False</td>\n",
       "      <td>98394</td>\n",
       "      <td>19963.0</td>\n",
       "      <td>40000</td>\n",
       "      <td>120</td>\n",
       "      <td>1</td>\n",
       "      <td>OCR</td>\n",
       "      <td>1</td>\n",
       "    </tr>\n",
       "    <tr>\n",
       "      <th>4837</th>\n",
       "      <td>-</td>\n",
       "      <td>25235</td>\n",
       "      <td>Female</td>\n",
       "      <td>True</td>\n",
       "      <td>1</td>\n",
       "      <td>Graduate</td>\n",
       "      <td>True</td>\n",
       "      <td>46783</td>\n",
       "      <td>7726.0</td>\n",
       "      <td>40000</td>\n",
       "      <td>60</td>\n",
       "      <td>1</td>\n",
       "      <td>OCR</td>\n",
       "      <td>1</td>\n",
       "    </tr>\n",
       "  </tbody>\n",
       "</table>\n",
       "<p>4838 rows × 14 columns</p>\n",
       "</div>"
      ],
      "text/plain": [
       "     Num_Kids  Loan_ID  Gender Married  Dependent_No     Education  \\\n",
       "0           -    27471    Male    True             1  Not Graduate   \n",
       "1           -    27472    Male   False             1      Graduate   \n",
       "2           -    27473  Female   False             4  Not Graduate   \n",
       "3           -    27474    Male   False             3      Graduate   \n",
       "4           -    27475    Male    True             3  Not Graduate   \n",
       "...       ...      ...     ...     ...           ...           ...   \n",
       "4833        -    25231  Female    True             0  Not Graduate   \n",
       "4834        -    25232    Male   False             3  Not Graduate   \n",
       "4835        -    25233    Male    True             1      Graduate   \n",
       "4836        -    25234  Female   False             0  Not Graduate   \n",
       "4837        -    25235  Female    True             1      Graduate   \n",
       "\n",
       "      Self_Employed  Applicant_Income  CoApplicant_Income  Loan_Amount  \\\n",
       "0              True              4251             34868.0        30000   \n",
       "1             False             23399             30710.0        30000   \n",
       "2              True             68684             13669.0        50000   \n",
       "3              True             19825             20862.0        10000   \n",
       "4              True             65643             15199.0        60000   \n",
       "...             ...               ...                 ...          ...   \n",
       "4833           True             74961             18796.0        20000   \n",
       "4834           True             59475              9950.0        10000   \n",
       "4835          False             26043             43140.0        50000   \n",
       "4836          False             98394             19963.0        40000   \n",
       "4837           True             46783              7726.0        40000   \n",
       "\n",
       "      Loan_Amount_Term  Credit History Property_District  Loan_Status  \n",
       "0                  300               1               CCR            1  \n",
       "1                   60               1               OCR            1  \n",
       "2                  180               1               OCR            1  \n",
       "3                  360               0               OCR            1  \n",
       "4                  240               0               OCR            1  \n",
       "...                ...             ...               ...          ...  \n",
       "4833               240               0               CCR            0  \n",
       "4834                60               0               CCR            1  \n",
       "4835               240               1               OCR            1  \n",
       "4836               120               1               OCR            1  \n",
       "4837                60               1               OCR            1  \n",
       "\n",
       "[4838 rows x 14 columns]"
      ]
     },
     "execution_count": 3,
     "metadata": {},
     "output_type": "execute_result"
    }
   ],
   "source": [
    "frames = [df0, df1, df2, df3, df4]\n",
    "\n",
    "#Mergen der Frames\n",
    "df = pd.concat(frames, ignore_index=True)\n",
    "\n",
    "df"
   ]
  },
  {
   "cell_type": "markdown",
   "metadata": {},
   "source": [
    "### [KR03] Identifikation von Daten Problemen\n"
   ]
  },
  {
   "cell_type": "code",
   "execution_count": 4,
   "metadata": {},
   "outputs": [
    {
     "name": "stdout",
     "output_type": "stream",
     "text": [
      "<class 'pandas.core.frame.DataFrame'>\n",
      "RangeIndex: 4838 entries, 0 to 4837\n",
      "Data columns (total 14 columns):\n",
      " #   Column              Non-Null Count  Dtype  \n",
      "---  ------              --------------  -----  \n",
      " 0   Num_Kids            4838 non-null   object \n",
      " 1   Loan_ID             4838 non-null   int64  \n",
      " 2   Gender              4835 non-null   object \n",
      " 3   Married             4838 non-null   object \n",
      " 4   Dependent_No        4838 non-null   int64  \n",
      " 5   Education           4838 non-null   object \n",
      " 6   Self_Employed       4838 non-null   bool   \n",
      " 7   Applicant_Income    4838 non-null   int64  \n",
      " 8   CoApplicant_Income  4330 non-null   float64\n",
      " 9   Loan_Amount         4838 non-null   int64  \n",
      " 10  Loan_Amount_Term    4838 non-null   int64  \n",
      " 11  Credit History      4838 non-null   int64  \n",
      " 12  Property_District   4838 non-null   object \n",
      " 13  Loan_Status         4838 non-null   int64  \n",
      "dtypes: bool(1), float64(1), int64(7), object(5)\n",
      "memory usage: 496.2+ KB\n"
     ]
    }
   ],
   "source": [
    "df.info()"
   ]
  },
  {
   "cell_type": "code",
   "execution_count": 5,
   "metadata": {},
   "outputs": [
    {
     "data": {
      "text/html": [
       "<div>\n",
       "<style scoped>\n",
       "    .dataframe tbody tr th:only-of-type {\n",
       "        vertical-align: middle;\n",
       "    }\n",
       "\n",
       "    .dataframe tbody tr th {\n",
       "        vertical-align: top;\n",
       "    }\n",
       "\n",
       "    .dataframe thead th {\n",
       "        text-align: right;\n",
       "    }\n",
       "</style>\n",
       "<table border=\"1\" class=\"dataframe\">\n",
       "  <thead>\n",
       "    <tr style=\"text-align: right;\">\n",
       "      <th></th>\n",
       "      <th>Num_Kids</th>\n",
       "      <th>Loan_ID</th>\n",
       "      <th>Gender</th>\n",
       "      <th>Married</th>\n",
       "      <th>Dependent_No</th>\n",
       "      <th>Education</th>\n",
       "      <th>Self_Employed</th>\n",
       "      <th>Applicant_Income</th>\n",
       "      <th>CoApplicant_Income</th>\n",
       "      <th>Loan_Amount</th>\n",
       "      <th>Loan_Amount_Term</th>\n",
       "      <th>Credit History</th>\n",
       "      <th>Property_District</th>\n",
       "      <th>Loan_Status</th>\n",
       "    </tr>\n",
       "  </thead>\n",
       "  <tbody>\n",
       "    <tr>\n",
       "      <th>count</th>\n",
       "      <td>4838</td>\n",
       "      <td>4838.000000</td>\n",
       "      <td>4835</td>\n",
       "      <td>4838</td>\n",
       "      <td>4838.000000</td>\n",
       "      <td>4838</td>\n",
       "      <td>4838</td>\n",
       "      <td>4838.000000</td>\n",
       "      <td>4330.000000</td>\n",
       "      <td>4838.000000</td>\n",
       "      <td>4838.000000</td>\n",
       "      <td>4838.000000</td>\n",
       "      <td>4838</td>\n",
       "      <td>4838.000000</td>\n",
       "    </tr>\n",
       "    <tr>\n",
       "      <th>unique</th>\n",
       "      <td>1</td>\n",
       "      <td>NaN</td>\n",
       "      <td>8</td>\n",
       "      <td>6</td>\n",
       "      <td>NaN</td>\n",
       "      <td>2</td>\n",
       "      <td>2</td>\n",
       "      <td>NaN</td>\n",
       "      <td>NaN</td>\n",
       "      <td>NaN</td>\n",
       "      <td>NaN</td>\n",
       "      <td>NaN</td>\n",
       "      <td>3</td>\n",
       "      <td>NaN</td>\n",
       "    </tr>\n",
       "    <tr>\n",
       "      <th>top</th>\n",
       "      <td>-</td>\n",
       "      <td>NaN</td>\n",
       "      <td>Male</td>\n",
       "      <td>True</td>\n",
       "      <td>NaN</td>\n",
       "      <td>Not Graduate</td>\n",
       "      <td>True</td>\n",
       "      <td>NaN</td>\n",
       "      <td>NaN</td>\n",
       "      <td>NaN</td>\n",
       "      <td>NaN</td>\n",
       "      <td>NaN</td>\n",
       "      <td>OCR</td>\n",
       "      <td>NaN</td>\n",
       "    </tr>\n",
       "    <tr>\n",
       "      <th>freq</th>\n",
       "      <td>4838</td>\n",
       "      <td>NaN</td>\n",
       "      <td>3256</td>\n",
       "      <td>1949</td>\n",
       "      <td>NaN</td>\n",
       "      <td>2858</td>\n",
       "      <td>2890</td>\n",
       "      <td>NaN</td>\n",
       "      <td>NaN</td>\n",
       "      <td>NaN</td>\n",
       "      <td>NaN</td>\n",
       "      <td>NaN</td>\n",
       "      <td>2431</td>\n",
       "      <td>NaN</td>\n",
       "    </tr>\n",
       "    <tr>\n",
       "      <th>mean</th>\n",
       "      <td>NaN</td>\n",
       "      <td>25774.881356</td>\n",
       "      <td>NaN</td>\n",
       "      <td>NaN</td>\n",
       "      <td>1.997520</td>\n",
       "      <td>NaN</td>\n",
       "      <td>NaN</td>\n",
       "      <td>51012.898718</td>\n",
       "      <td>25282.111085</td>\n",
       "      <td>35374.121538</td>\n",
       "      <td>212.542373</td>\n",
       "      <td>0.667011</td>\n",
       "      <td>NaN</td>\n",
       "      <td>0.663497</td>\n",
       "    </tr>\n",
       "    <tr>\n",
       "      <th>std</th>\n",
       "      <td>NaN</td>\n",
       "      <td>1612.697042</td>\n",
       "      <td>NaN</td>\n",
       "      <td>NaN</td>\n",
       "      <td>1.417132</td>\n",
       "      <td>NaN</td>\n",
       "      <td>NaN</td>\n",
       "      <td>29308.510339</td>\n",
       "      <td>14177.039556</td>\n",
       "      <td>17150.013908</td>\n",
       "      <td>102.907624</td>\n",
       "      <td>0.471331</td>\n",
       "      <td>NaN</td>\n",
       "      <td>0.472562</td>\n",
       "    </tr>\n",
       "    <tr>\n",
       "      <th>min</th>\n",
       "      <td>NaN</td>\n",
       "      <td>23002.000000</td>\n",
       "      <td>NaN</td>\n",
       "      <td>NaN</td>\n",
       "      <td>0.000000</td>\n",
       "      <td>NaN</td>\n",
       "      <td>NaN</td>\n",
       "      <td>-50000.000000</td>\n",
       "      <td>1002.000000</td>\n",
       "      <td>10000.000000</td>\n",
       "      <td>60.000000</td>\n",
       "      <td>0.000000</td>\n",
       "      <td>NaN</td>\n",
       "      <td>0.000000</td>\n",
       "    </tr>\n",
       "    <tr>\n",
       "      <th>25%</th>\n",
       "      <td>NaN</td>\n",
       "      <td>24379.250000</td>\n",
       "      <td>NaN</td>\n",
       "      <td>NaN</td>\n",
       "      <td>1.000000</td>\n",
       "      <td>NaN</td>\n",
       "      <td>NaN</td>\n",
       "      <td>26461.000000</td>\n",
       "      <td>13312.000000</td>\n",
       "      <td>20000.000000</td>\n",
       "      <td>120.000000</td>\n",
       "      <td>0.000000</td>\n",
       "      <td>NaN</td>\n",
       "      <td>0.000000</td>\n",
       "    </tr>\n",
       "    <tr>\n",
       "      <th>50%</th>\n",
       "      <td>NaN</td>\n",
       "      <td>25760.500000</td>\n",
       "      <td>NaN</td>\n",
       "      <td>NaN</td>\n",
       "      <td>2.000000</td>\n",
       "      <td>NaN</td>\n",
       "      <td>NaN</td>\n",
       "      <td>51473.500000</td>\n",
       "      <td>25075.000000</td>\n",
       "      <td>40000.000000</td>\n",
       "      <td>240.000000</td>\n",
       "      <td>1.000000</td>\n",
       "      <td>NaN</td>\n",
       "      <td>1.000000</td>\n",
       "    </tr>\n",
       "    <tr>\n",
       "      <th>75%</th>\n",
       "      <td>NaN</td>\n",
       "      <td>27182.750000</td>\n",
       "      <td>NaN</td>\n",
       "      <td>NaN</td>\n",
       "      <td>3.000000</td>\n",
       "      <td>NaN</td>\n",
       "      <td>NaN</td>\n",
       "      <td>76143.500000</td>\n",
       "      <td>37733.000000</td>\n",
       "      <td>50000.000000</td>\n",
       "      <td>300.000000</td>\n",
       "      <td>1.000000</td>\n",
       "      <td>NaN</td>\n",
       "      <td>1.000000</td>\n",
       "    </tr>\n",
       "    <tr>\n",
       "      <th>max</th>\n",
       "      <td>NaN</td>\n",
       "      <td>28585.000000</td>\n",
       "      <td>NaN</td>\n",
       "      <td>NaN</td>\n",
       "      <td>4.000000</td>\n",
       "      <td>NaN</td>\n",
       "      <td>NaN</td>\n",
       "      <td>500000.000000</td>\n",
       "      <td>49997.000000</td>\n",
       "      <td>60000.000000</td>\n",
       "      <td>360.000000</td>\n",
       "      <td>1.000000</td>\n",
       "      <td>NaN</td>\n",
       "      <td>1.000000</td>\n",
       "    </tr>\n",
       "  </tbody>\n",
       "</table>\n",
       "</div>"
      ],
      "text/plain": [
       "       Num_Kids       Loan_ID Gender Married  Dependent_No     Education  \\\n",
       "count      4838   4838.000000   4835    4838   4838.000000          4838   \n",
       "unique        1           NaN      8       6           NaN             2   \n",
       "top           -           NaN   Male    True           NaN  Not Graduate   \n",
       "freq       4838           NaN   3256    1949           NaN          2858   \n",
       "mean        NaN  25774.881356    NaN     NaN      1.997520           NaN   \n",
       "std         NaN   1612.697042    NaN     NaN      1.417132           NaN   \n",
       "min         NaN  23002.000000    NaN     NaN      0.000000           NaN   \n",
       "25%         NaN  24379.250000    NaN     NaN      1.000000           NaN   \n",
       "50%         NaN  25760.500000    NaN     NaN      2.000000           NaN   \n",
       "75%         NaN  27182.750000    NaN     NaN      3.000000           NaN   \n",
       "max         NaN  28585.000000    NaN     NaN      4.000000           NaN   \n",
       "\n",
       "       Self_Employed  Applicant_Income  CoApplicant_Income   Loan_Amount  \\\n",
       "count           4838       4838.000000         4330.000000   4838.000000   \n",
       "unique             2               NaN                 NaN           NaN   \n",
       "top             True               NaN                 NaN           NaN   \n",
       "freq            2890               NaN                 NaN           NaN   \n",
       "mean             NaN      51012.898718        25282.111085  35374.121538   \n",
       "std              NaN      29308.510339        14177.039556  17150.013908   \n",
       "min              NaN     -50000.000000         1002.000000  10000.000000   \n",
       "25%              NaN      26461.000000        13312.000000  20000.000000   \n",
       "50%              NaN      51473.500000        25075.000000  40000.000000   \n",
       "75%              NaN      76143.500000        37733.000000  50000.000000   \n",
       "max              NaN     500000.000000        49997.000000  60000.000000   \n",
       "\n",
       "        Loan_Amount_Term  Credit History Property_District  Loan_Status  \n",
       "count        4838.000000     4838.000000              4838  4838.000000  \n",
       "unique               NaN             NaN                 3          NaN  \n",
       "top                  NaN             NaN               OCR          NaN  \n",
       "freq                 NaN             NaN              2431          NaN  \n",
       "mean          212.542373        0.667011               NaN     0.663497  \n",
       "std           102.907624        0.471331               NaN     0.472562  \n",
       "min            60.000000        0.000000               NaN     0.000000  \n",
       "25%           120.000000        0.000000               NaN     0.000000  \n",
       "50%           240.000000        1.000000               NaN     1.000000  \n",
       "75%           300.000000        1.000000               NaN     1.000000  \n",
       "max           360.000000        1.000000               NaN     1.000000  "
      ]
     },
     "execution_count": 5,
     "metadata": {},
     "output_type": "execute_result"
    }
   ],
   "source": [
    "df.describe(include=\"all\")"
   ]
  },
  {
   "cell_type": "code",
   "execution_count": 6,
   "metadata": {},
   "outputs": [
    {
     "name": "stdout",
     "output_type": "stream",
     "text": [
      "['Male' 'Female' 'm' 'M' 'female' 'male' 'F' '-' nan]\n",
      "[True False 'True' 'False' 'Yes' 'No']\n",
      "['Not Graduate' 'Graduate']\n"
     ]
    }
   ],
   "source": [
    "print(df['Gender'].unique())\n",
    "print(df['Married'].unique())\n",
    "print(df['Education'].unique())"
   ]
  },
  {
   "cell_type": "code",
   "execution_count": 7,
   "metadata": {},
   "outputs": [
    {
     "data": {
      "text/html": [
       "<div>\n",
       "<style scoped>\n",
       "    .dataframe tbody tr th:only-of-type {\n",
       "        vertical-align: middle;\n",
       "    }\n",
       "\n",
       "    .dataframe tbody tr th {\n",
       "        vertical-align: top;\n",
       "    }\n",
       "\n",
       "    .dataframe thead th {\n",
       "        text-align: right;\n",
       "    }\n",
       "</style>\n",
       "<table border=\"1\" class=\"dataframe\">\n",
       "  <thead>\n",
       "    <tr style=\"text-align: right;\">\n",
       "      <th></th>\n",
       "      <th>Num_Kids</th>\n",
       "      <th>Loan_ID</th>\n",
       "      <th>Gender</th>\n",
       "      <th>Married</th>\n",
       "      <th>Dependent_No</th>\n",
       "      <th>Education</th>\n",
       "      <th>Self_Employed</th>\n",
       "      <th>Applicant_Income</th>\n",
       "      <th>CoApplicant_Income</th>\n",
       "      <th>Loan_Amount</th>\n",
       "      <th>Loan_Amount_Term</th>\n",
       "      <th>Credit History</th>\n",
       "      <th>Property_District</th>\n",
       "      <th>Loan_Status</th>\n",
       "    </tr>\n",
       "  </thead>\n",
       "  <tbody>\n",
       "  </tbody>\n",
       "</table>\n",
       "</div>"
      ],
      "text/plain": [
       "Empty DataFrame\n",
       "Columns: [Num_Kids, Loan_ID, Gender, Married, Dependent_No, Education, Self_Employed, Applicant_Income, CoApplicant_Income, Loan_Amount, Loan_Amount_Term, Credit History, Property_District, Loan_Status]\n",
       "Index: []"
      ]
     },
     "execution_count": 7,
     "metadata": {},
     "output_type": "execute_result"
    }
   ],
   "source": [
    "df.loc[\n",
    "    df['Gender'] == 'nan'\n",
    "]"
   ]
  },
  {
   "cell_type": "code",
   "execution_count": 8,
   "metadata": {},
   "outputs": [
    {
     "data": {
      "text/html": [
       "<div>\n",
       "<style scoped>\n",
       "    .dataframe tbody tr th:only-of-type {\n",
       "        vertical-align: middle;\n",
       "    }\n",
       "\n",
       "    .dataframe tbody tr th {\n",
       "        vertical-align: top;\n",
       "    }\n",
       "\n",
       "    .dataframe thead th {\n",
       "        text-align: right;\n",
       "    }\n",
       "</style>\n",
       "<table border=\"1\" class=\"dataframe\">\n",
       "  <thead>\n",
       "    <tr style=\"text-align: right;\">\n",
       "      <th></th>\n",
       "      <th>Num_Kids</th>\n",
       "      <th>Loan_ID</th>\n",
       "      <th>Gender</th>\n",
       "      <th>Married</th>\n",
       "      <th>Dependent_No</th>\n",
       "      <th>Education</th>\n",
       "      <th>Self_Employed</th>\n",
       "      <th>Applicant_Income</th>\n",
       "      <th>CoApplicant_Income</th>\n",
       "      <th>Loan_Amount</th>\n",
       "      <th>Loan_Amount_Term</th>\n",
       "      <th>Credit History</th>\n",
       "      <th>Property_District</th>\n",
       "      <th>Loan_Status</th>\n",
       "    </tr>\n",
       "  </thead>\n",
       "  <tbody>\n",
       "    <tr>\n",
       "      <th>11</th>\n",
       "      <td>-</td>\n",
       "      <td>27483</td>\n",
       "      <td>Male</td>\n",
       "      <td>False</td>\n",
       "      <td>3</td>\n",
       "      <td>Not Graduate</td>\n",
       "      <td>False</td>\n",
       "      <td>83867</td>\n",
       "      <td>NaN</td>\n",
       "      <td>30000</td>\n",
       "      <td>60</td>\n",
       "      <td>0</td>\n",
       "      <td>OCR</td>\n",
       "      <td>1</td>\n",
       "    </tr>\n",
       "    <tr>\n",
       "      <th>57</th>\n",
       "      <td>-</td>\n",
       "      <td>27534</td>\n",
       "      <td>Female</td>\n",
       "      <td>True</td>\n",
       "      <td>4</td>\n",
       "      <td>Graduate</td>\n",
       "      <td>True</td>\n",
       "      <td>81632</td>\n",
       "      <td>27268.0</td>\n",
       "      <td>50000</td>\n",
       "      <td>360</td>\n",
       "      <td>1</td>\n",
       "      <td>OCR</td>\n",
       "      <td>0</td>\n",
       "    </tr>\n",
       "    <tr>\n",
       "      <th>110</th>\n",
       "      <td>-</td>\n",
       "      <td>27595</td>\n",
       "      <td>Male</td>\n",
       "      <td>False</td>\n",
       "      <td>3</td>\n",
       "      <td>Not Graduate</td>\n",
       "      <td>False</td>\n",
       "      <td>59548</td>\n",
       "      <td>45543.0</td>\n",
       "      <td>10000</td>\n",
       "      <td>360</td>\n",
       "      <td>1</td>\n",
       "      <td>OCR</td>\n",
       "      <td>0</td>\n",
       "    </tr>\n",
       "    <tr>\n",
       "      <th>2918</th>\n",
       "      <td>-</td>\n",
       "      <td>23070</td>\n",
       "      <td>Male</td>\n",
       "      <td>False</td>\n",
       "      <td>4</td>\n",
       "      <td>Not Graduate</td>\n",
       "      <td>True</td>\n",
       "      <td>69371</td>\n",
       "      <td>15703.0</td>\n",
       "      <td>60000</td>\n",
       "      <td>60</td>\n",
       "      <td>1</td>\n",
       "      <td>OCR</td>\n",
       "      <td>1</td>\n",
       "    </tr>\n",
       "    <tr>\n",
       "      <th>2966</th>\n",
       "      <td>-</td>\n",
       "      <td>23128</td>\n",
       "      <td>Male</td>\n",
       "      <td>False</td>\n",
       "      <td>1</td>\n",
       "      <td>Graduate</td>\n",
       "      <td>False</td>\n",
       "      <td>86903</td>\n",
       "      <td>13345.0</td>\n",
       "      <td>40000</td>\n",
       "      <td>120</td>\n",
       "      <td>1</td>\n",
       "      <td>OCR</td>\n",
       "      <td>1</td>\n",
       "    </tr>\n",
       "  </tbody>\n",
       "</table>\n",
       "</div>"
      ],
      "text/plain": [
       "     Num_Kids  Loan_ID  Gender Married  Dependent_No     Education  \\\n",
       "11          -    27483    Male   False             3  Not Graduate   \n",
       "57          -    27534  Female    True             4      Graduate   \n",
       "110         -    27595    Male   False             3  Not Graduate   \n",
       "2918        -    23070    Male   False             4  Not Graduate   \n",
       "2966        -    23128    Male   False             1      Graduate   \n",
       "\n",
       "      Self_Employed  Applicant_Income  CoApplicant_Income  Loan_Amount  \\\n",
       "11            False             83867                 NaN        30000   \n",
       "57             True             81632             27268.0        50000   \n",
       "110           False             59548             45543.0        10000   \n",
       "2918           True             69371             15703.0        60000   \n",
       "2966          False             86903             13345.0        40000   \n",
       "\n",
       "      Loan_Amount_Term  Credit History Property_District  Loan_Status  \n",
       "11                  60               0               OCR            1  \n",
       "57                 360               1               OCR            0  \n",
       "110                360               1               OCR            0  \n",
       "2918                60               1               OCR            1  \n",
       "2966               120               1               OCR            1  "
      ]
     },
     "execution_count": 8,
     "metadata": {},
     "output_type": "execute_result"
    }
   ],
   "source": [
    "duplicateRows = df[df.duplicated(keep='first')]\n",
    "\n",
    "duplicateRows"
   ]
  },
  {
   "cell_type": "code",
   "execution_count": 9,
   "metadata": {},
   "outputs": [
    {
     "data": {
      "text/html": [
       "<div>\n",
       "<style scoped>\n",
       "    .dataframe tbody tr th:only-of-type {\n",
       "        vertical-align: middle;\n",
       "    }\n",
       "\n",
       "    .dataframe tbody tr th {\n",
       "        vertical-align: top;\n",
       "    }\n",
       "\n",
       "    .dataframe thead th {\n",
       "        text-align: right;\n",
       "    }\n",
       "</style>\n",
       "<table border=\"1\" class=\"dataframe\">\n",
       "  <thead>\n",
       "    <tr style=\"text-align: right;\">\n",
       "      <th></th>\n",
       "      <th>Num_Kids</th>\n",
       "      <th>Loan_ID</th>\n",
       "      <th>Gender</th>\n",
       "      <th>Married</th>\n",
       "      <th>Dependent_No</th>\n",
       "      <th>Education</th>\n",
       "      <th>Self_Employed</th>\n",
       "      <th>Applicant_Income</th>\n",
       "      <th>CoApplicant_Income</th>\n",
       "      <th>Loan_Amount</th>\n",
       "      <th>Loan_Amount_Term</th>\n",
       "      <th>Credit History</th>\n",
       "      <th>Property_District</th>\n",
       "      <th>Loan_Status</th>\n",
       "    </tr>\n",
       "  </thead>\n",
       "  <tbody>\n",
       "  </tbody>\n",
       "</table>\n",
       "</div>"
      ],
      "text/plain": [
       "Empty DataFrame\n",
       "Columns: [Num_Kids, Loan_ID, Gender, Married, Dependent_No, Education, Self_Employed, Applicant_Income, CoApplicant_Income, Loan_Amount, Loan_Amount_Term, Credit History, Property_District, Loan_Status]\n",
       "Index: []"
      ]
     },
     "execution_count": 9,
     "metadata": {},
     "output_type": "execute_result"
    }
   ],
   "source": [
    "df = df.drop_duplicates()\n",
    "duplicateRows = df[df.duplicated()]\n",
    "\n",
    "duplicateRows"
   ]
  },
  {
   "cell_type": "code",
   "execution_count": 10,
   "metadata": {},
   "outputs": [
    {
     "data": {
      "text/plain": [
       "array([False])"
      ]
     },
     "execution_count": 10,
     "metadata": {},
     "output_type": "execute_result"
    }
   ],
   "source": [
    "df[\"Loan_ID\"].duplicated().unique()"
   ]
  },
  {
   "cell_type": "code",
   "execution_count": 11,
   "metadata": {},
   "outputs": [
    {
     "data": {
      "text/plain": [
       "Num_Kids                0\n",
       "Loan_ID                 0\n",
       "Gender                  3\n",
       "Married                 0\n",
       "Dependent_No            0\n",
       "Education               0\n",
       "Self_Employed           0\n",
       "Applicant_Income        0\n",
       "CoApplicant_Income    507\n",
       "Loan_Amount             0\n",
       "Loan_Amount_Term        0\n",
       "Credit History          0\n",
       "Property_District       0\n",
       "Loan_Status             0\n",
       "dtype: int64"
      ]
     },
     "execution_count": 11,
     "metadata": {},
     "output_type": "execute_result"
    }
   ],
   "source": [
    "df.isna().sum()"
   ]
  },
  {
   "cell_type": "markdown",
   "metadata": {},
   "source": [
    "### [KR04] Visualisierung der Zielklasse\n"
   ]
  },
  {
   "cell_type": "code",
   "execution_count": 12,
   "metadata": {},
   "outputs": [],
   "source": [
    "# Kredithistorie: Informationen wie die Person in der Vergangenheit mit Krediten und Schulden umgegangen ist (verspätete Zahlungen, Kreditlimits, etc.)\n",
    "# Lohnstatus: Informationen, wie viel Geld eine Person verdient. Gibt Kreditgebern Einblick in finanzielle Stabilität der Person und Ihre Fähigkeit, Kredite zurückzuzahlen.\n",
    "# CoApplicant_Income: Gehalt des Mitantragstellers (zweite Person) --> ergibt Gesamtkredidwürdigkeit\n",
    "# Loan Amount = Kreditbetrag\n",
    "# Loan Amount Term = Laufzeit des Kreditbetrags\n",
    "\n",
    "# WICHTIG für Zielklassenbestimmung\n",
    "# Incomes Zusammenrechnen\n",
    "\n",
    "urban_region = [(df['Loan_Status'] == 1)]"
   ]
  },
  {
   "cell_type": "markdown",
   "metadata": {},
   "source": [
    "### [KR05] Anzahl Duplikate\n"
   ]
  },
  {
   "cell_type": "code",
   "execution_count": 13,
   "metadata": {},
   "outputs": [
    {
     "data": {
      "text/html": [
       "<div>\n",
       "<style scoped>\n",
       "    .dataframe tbody tr th:only-of-type {\n",
       "        vertical-align: middle;\n",
       "    }\n",
       "\n",
       "    .dataframe tbody tr th {\n",
       "        vertical-align: top;\n",
       "    }\n",
       "\n",
       "    .dataframe thead th {\n",
       "        text-align: right;\n",
       "    }\n",
       "</style>\n",
       "<table border=\"1\" class=\"dataframe\">\n",
       "  <thead>\n",
       "    <tr style=\"text-align: right;\">\n",
       "      <th></th>\n",
       "      <th>Num_Kids</th>\n",
       "      <th>Loan_ID</th>\n",
       "      <th>Gender</th>\n",
       "      <th>Married</th>\n",
       "      <th>Dependent_No</th>\n",
       "      <th>Education</th>\n",
       "      <th>Self_Employed</th>\n",
       "      <th>Applicant_Income</th>\n",
       "      <th>CoApplicant_Income</th>\n",
       "      <th>Loan_Amount</th>\n",
       "      <th>Loan_Amount_Term</th>\n",
       "      <th>Credit History</th>\n",
       "      <th>Property_District</th>\n",
       "      <th>Loan_Status</th>\n",
       "    </tr>\n",
       "  </thead>\n",
       "  <tbody>\n",
       "  </tbody>\n",
       "</table>\n",
       "</div>"
      ],
      "text/plain": [
       "Empty DataFrame\n",
       "Columns: [Num_Kids, Loan_ID, Gender, Married, Dependent_No, Education, Self_Employed, Applicant_Income, CoApplicant_Income, Loan_Amount, Loan_Amount_Term, Credit History, Property_District, Loan_Status]\n",
       "Index: []"
      ]
     },
     "execution_count": 13,
     "metadata": {},
     "output_type": "execute_result"
    }
   ],
   "source": [
    "duplicateRows = df[df.duplicated(keep='first')]\n",
    "duplicateRows2 = df[df.duplicated(keep='last')]\n",
    "\n",
    "dfdp = pd.concat([duplicateRows, duplicateRows2], ignore_index=True).sort_values('Loan_ID')\n",
    "dfdp"
   ]
  },
  {
   "cell_type": "code",
   "execution_count": 14,
   "metadata": {},
   "outputs": [
    {
     "name": "stdout",
     "output_type": "stream",
     "text": [
      "(4833, 14)\n",
      "(4833, 14)\n"
     ]
    }
   ],
   "source": [
    "# Duplikate rauswerfen\n",
    "\n",
    "print(df.shape)\n",
    "df = df.drop_duplicates()\n",
    "print(df.shape)"
   ]
  },
  {
   "cell_type": "markdown",
   "metadata": {},
   "source": [
    "### [KR06] Kredite in der urbanen Gegend\n"
   ]
  },
  {
   "cell_type": "code",
   "execution_count": 15,
   "metadata": {},
   "outputs": [
    {
     "name": "stderr",
     "output_type": "stream",
     "text": [
      "/var/folders/6l/0tgzd1nn0ms4kdqy51q3skzc0000gn/T/ipykernel_90622/1703561595.py:5: UserWarning: Boolean Series key will be reindexed to match DataFrame index.\n",
      "  urban_region [(df['Credit History'] == 1)]\n"
     ]
    },
    {
     "data": {
      "text/html": [
       "<div>\n",
       "<style scoped>\n",
       "    .dataframe tbody tr th:only-of-type {\n",
       "        vertical-align: middle;\n",
       "    }\n",
       "\n",
       "    .dataframe tbody tr th {\n",
       "        vertical-align: top;\n",
       "    }\n",
       "\n",
       "    .dataframe thead th {\n",
       "        text-align: right;\n",
       "    }\n",
       "</style>\n",
       "<table border=\"1\" class=\"dataframe\">\n",
       "  <thead>\n",
       "    <tr style=\"text-align: right;\">\n",
       "      <th></th>\n",
       "      <th>Num_Kids</th>\n",
       "      <th>Loan_ID</th>\n",
       "      <th>Gender</th>\n",
       "      <th>Married</th>\n",
       "      <th>Dependent_No</th>\n",
       "      <th>Education</th>\n",
       "      <th>Self_Employed</th>\n",
       "      <th>Applicant_Income</th>\n",
       "      <th>CoApplicant_Income</th>\n",
       "      <th>Loan_Amount</th>\n",
       "      <th>Loan_Amount_Term</th>\n",
       "      <th>Credit History</th>\n",
       "      <th>Property_District</th>\n",
       "      <th>Loan_Status</th>\n",
       "    </tr>\n",
       "  </thead>\n",
       "  <tbody>\n",
       "    <tr>\n",
       "      <th>0</th>\n",
       "      <td>-</td>\n",
       "      <td>27471</td>\n",
       "      <td>Male</td>\n",
       "      <td>True</td>\n",
       "      <td>1</td>\n",
       "      <td>Not Graduate</td>\n",
       "      <td>True</td>\n",
       "      <td>4251</td>\n",
       "      <td>34868.0</td>\n",
       "      <td>30000</td>\n",
       "      <td>300</td>\n",
       "      <td>1</td>\n",
       "      <td>CCR</td>\n",
       "      <td>1</td>\n",
       "    </tr>\n",
       "    <tr>\n",
       "      <th>21</th>\n",
       "      <td>-</td>\n",
       "      <td>27495</td>\n",
       "      <td>Female</td>\n",
       "      <td>False</td>\n",
       "      <td>4</td>\n",
       "      <td>Not Graduate</td>\n",
       "      <td>True</td>\n",
       "      <td>44880</td>\n",
       "      <td>NaN</td>\n",
       "      <td>10000</td>\n",
       "      <td>60</td>\n",
       "      <td>1</td>\n",
       "      <td>CCR</td>\n",
       "      <td>1</td>\n",
       "    </tr>\n",
       "    <tr>\n",
       "      <th>26</th>\n",
       "      <td>-</td>\n",
       "      <td>27500</td>\n",
       "      <td>Male</td>\n",
       "      <td>False</td>\n",
       "      <td>1</td>\n",
       "      <td>Not Graduate</td>\n",
       "      <td>True</td>\n",
       "      <td>46656</td>\n",
       "      <td>46954.0</td>\n",
       "      <td>60000</td>\n",
       "      <td>120</td>\n",
       "      <td>1</td>\n",
       "      <td>CCR</td>\n",
       "      <td>0</td>\n",
       "    </tr>\n",
       "    <tr>\n",
       "      <th>29</th>\n",
       "      <td>-</td>\n",
       "      <td>27504</td>\n",
       "      <td>Female</td>\n",
       "      <td>True</td>\n",
       "      <td>0</td>\n",
       "      <td>Not Graduate</td>\n",
       "      <td>True</td>\n",
       "      <td>94400</td>\n",
       "      <td>32281.0</td>\n",
       "      <td>40000</td>\n",
       "      <td>180</td>\n",
       "      <td>1</td>\n",
       "      <td>CCR</td>\n",
       "      <td>1</td>\n",
       "    </tr>\n",
       "    <tr>\n",
       "      <th>41</th>\n",
       "      <td>-</td>\n",
       "      <td>27517</td>\n",
       "      <td>Male</td>\n",
       "      <td>True</td>\n",
       "      <td>1</td>\n",
       "      <td>Not Graduate</td>\n",
       "      <td>False</td>\n",
       "      <td>99836</td>\n",
       "      <td>18851.0</td>\n",
       "      <td>50000</td>\n",
       "      <td>180</td>\n",
       "      <td>1</td>\n",
       "      <td>CCR</td>\n",
       "      <td>1</td>\n",
       "    </tr>\n",
       "    <tr>\n",
       "      <th>...</th>\n",
       "      <td>...</td>\n",
       "      <td>...</td>\n",
       "      <td>...</td>\n",
       "      <td>...</td>\n",
       "      <td>...</td>\n",
       "      <td>...</td>\n",
       "      <td>...</td>\n",
       "      <td>...</td>\n",
       "      <td>...</td>\n",
       "      <td>...</td>\n",
       "      <td>...</td>\n",
       "      <td>...</td>\n",
       "      <td>...</td>\n",
       "      <td>...</td>\n",
       "    </tr>\n",
       "    <tr>\n",
       "      <th>4819</th>\n",
       "      <td>-</td>\n",
       "      <td>25217</td>\n",
       "      <td>Female</td>\n",
       "      <td>True</td>\n",
       "      <td>3</td>\n",
       "      <td>Not Graduate</td>\n",
       "      <td>True</td>\n",
       "      <td>7014</td>\n",
       "      <td>48628.0</td>\n",
       "      <td>20000</td>\n",
       "      <td>120</td>\n",
       "      <td>1</td>\n",
       "      <td>CCR</td>\n",
       "      <td>1</td>\n",
       "    </tr>\n",
       "    <tr>\n",
       "      <th>4822</th>\n",
       "      <td>-</td>\n",
       "      <td>25220</td>\n",
       "      <td>Male</td>\n",
       "      <td>False</td>\n",
       "      <td>4</td>\n",
       "      <td>Graduate</td>\n",
       "      <td>True</td>\n",
       "      <td>76423</td>\n",
       "      <td>NaN</td>\n",
       "      <td>30000</td>\n",
       "      <td>120</td>\n",
       "      <td>1</td>\n",
       "      <td>CCR</td>\n",
       "      <td>1</td>\n",
       "    </tr>\n",
       "    <tr>\n",
       "      <th>4826</th>\n",
       "      <td>-</td>\n",
       "      <td>25224</td>\n",
       "      <td>Male</td>\n",
       "      <td>False</td>\n",
       "      <td>2</td>\n",
       "      <td>Graduate</td>\n",
       "      <td>True</td>\n",
       "      <td>25021</td>\n",
       "      <td>46895.0</td>\n",
       "      <td>30000</td>\n",
       "      <td>360</td>\n",
       "      <td>1</td>\n",
       "      <td>CCR</td>\n",
       "      <td>1</td>\n",
       "    </tr>\n",
       "    <tr>\n",
       "      <th>4828</th>\n",
       "      <td>-</td>\n",
       "      <td>25226</td>\n",
       "      <td>Female</td>\n",
       "      <td>False</td>\n",
       "      <td>0</td>\n",
       "      <td>Not Graduate</td>\n",
       "      <td>True</td>\n",
       "      <td>89527</td>\n",
       "      <td>26544.0</td>\n",
       "      <td>60000</td>\n",
       "      <td>120</td>\n",
       "      <td>1</td>\n",
       "      <td>CCR</td>\n",
       "      <td>0</td>\n",
       "    </tr>\n",
       "    <tr>\n",
       "      <th>4829</th>\n",
       "      <td>-</td>\n",
       "      <td>25227</td>\n",
       "      <td>Female</td>\n",
       "      <td>False</td>\n",
       "      <td>0</td>\n",
       "      <td>Graduate</td>\n",
       "      <td>True</td>\n",
       "      <td>51949</td>\n",
       "      <td>44075.0</td>\n",
       "      <td>10000</td>\n",
       "      <td>180</td>\n",
       "      <td>1</td>\n",
       "      <td>CCR</td>\n",
       "      <td>0</td>\n",
       "    </tr>\n",
       "  </tbody>\n",
       "</table>\n",
       "<p>808 rows × 14 columns</p>\n",
       "</div>"
      ],
      "text/plain": [
       "     Num_Kids  Loan_ID  Gender Married  Dependent_No     Education  \\\n",
       "0           -    27471    Male    True             1  Not Graduate   \n",
       "21          -    27495  Female   False             4  Not Graduate   \n",
       "26          -    27500    Male   False             1  Not Graduate   \n",
       "29          -    27504  Female    True             0  Not Graduate   \n",
       "41          -    27517    Male    True             1  Not Graduate   \n",
       "...       ...      ...     ...     ...           ...           ...   \n",
       "4819        -    25217  Female    True             3  Not Graduate   \n",
       "4822        -    25220    Male   False             4      Graduate   \n",
       "4826        -    25224    Male   False             2      Graduate   \n",
       "4828        -    25226  Female   False             0  Not Graduate   \n",
       "4829        -    25227  Female   False             0      Graduate   \n",
       "\n",
       "      Self_Employed  Applicant_Income  CoApplicant_Income  Loan_Amount  \\\n",
       "0              True              4251             34868.0        30000   \n",
       "21             True             44880                 NaN        10000   \n",
       "26             True             46656             46954.0        60000   \n",
       "29             True             94400             32281.0        40000   \n",
       "41            False             99836             18851.0        50000   \n",
       "...             ...               ...                 ...          ...   \n",
       "4819           True              7014             48628.0        20000   \n",
       "4822           True             76423                 NaN        30000   \n",
       "4826           True             25021             46895.0        30000   \n",
       "4828           True             89527             26544.0        60000   \n",
       "4829           True             51949             44075.0        10000   \n",
       "\n",
       "      Loan_Amount_Term  Credit History Property_District  Loan_Status  \n",
       "0                  300               1               CCR            1  \n",
       "21                  60               1               CCR            1  \n",
       "26                 120               1               CCR            0  \n",
       "29                 180               1               CCR            1  \n",
       "41                 180               1               CCR            1  \n",
       "...                ...             ...               ...          ...  \n",
       "4819               120               1               CCR            1  \n",
       "4822               120               1               CCR            1  \n",
       "4826               360               1               CCR            1  \n",
       "4828               120               1               CCR            0  \n",
       "4829               180               1               CCR            0  \n",
       "\n",
       "[808 rows x 14 columns]"
      ]
     },
     "execution_count": 15,
     "metadata": {},
     "output_type": "execute_result"
    }
   ],
   "source": [
    "# Fragen ob was mit urban = städtisch alles gemeint ist (nur Core Central Region?)\n",
    "# Und mit Kredite, Historie oder Kreditwürdigkeit gefragt?\n",
    "\n",
    "urban_region = df.loc[(df['Property_District']  == 'CCR')]\n",
    "urban_region [(df['Credit History'] == 1)]\n"
   ]
  },
  {
   "cell_type": "markdown",
   "metadata": {},
   "source": [
    "### [KR07] Durchschnittseinkommen\n"
   ]
  },
  {
   "cell_type": "code",
   "execution_count": 16,
   "metadata": {},
   "outputs": [
    {
     "data": {
      "text/plain": [
       "35371"
      ]
     },
     "execution_count": 16,
     "metadata": {},
     "output_type": "execute_result"
    }
   ],
   "source": [
    "average_loan = round(df['Loan_Amount'].mean())\n",
    "average_loan"
   ]
  },
  {
   "cell_type": "markdown",
   "metadata": {},
   "source": [
    "### [KR08] Bildungsstatus höchstes Einkommen\n"
   ]
  },
  {
   "cell_type": "code",
   "execution_count": 17,
   "metadata": {},
   "outputs": [
    {
     "name": "stdout",
     "output_type": "stream",
     "text": [
      "Höchstes Einkommen von Absolventen : 60000\n",
      "Höchstes Einkommen von nicht-Absolventen: 60000\n"
     ]
    }
   ],
   "source": [
    "graduated_max_loan = df[df['Education'] == 'Graduate']['Loan_Amount'].max()\n",
    "not_graduated_max_loan = df[df['Education'] == 'Not Graduate']['Loan_Amount'].max()\n",
    "\n",
    "print('Höchstes Einkommen von Absolventen :', graduated_max_loan)\n",
    "print('Höchstes Einkommen von nicht-Absolventen:', not_graduated_max_loan)"
   ]
  },
  {
   "cell_type": "markdown",
   "metadata": {},
   "source": [
    "### [KR09] Identifikation von Ausreißern beim Einkommen\n"
   ]
  },
  {
   "cell_type": "code",
   "execution_count": 18,
   "metadata": {},
   "outputs": [
    {
     "data": {
      "text/plain": [
       "count      4833.000000\n",
       "mean      50986.774881\n",
       "std       29310.546571\n",
       "min      -50000.000000\n",
       "25%       26460.000000\n",
       "50%       51426.000000\n",
       "75%       76109.000000\n",
       "max      500000.000000\n",
       "Name: Applicant_Income, dtype: float64"
      ]
     },
     "execution_count": 18,
     "metadata": {},
     "output_type": "execute_result"
    }
   ],
   "source": [
    "df['Applicant_Income'].describe()"
   ]
  },
  {
   "cell_type": "code",
   "execution_count": 19,
   "metadata": {},
   "outputs": [
    {
     "data": {
      "image/png": "[encoded data removed]",
      "text/plain": [
       "<Figure size 640x480 with 1 Axes>"
      ]
     },
     "metadata": {},
     "output_type": "display_data"
    }
   ],
   "source": [
    "fig, ax = plt.subplots()\n",
    "\n",
    "data = df['Applicant_Income']\n",
    "ax.set_title('Applicant Income')\n",
    "ax.boxplot(data)\n",
    "\n",
    "plt.show()"
   ]
  },
  {
   "cell_type": "code",
   "execution_count": 20,
   "metadata": {},
   "outputs": [
    {
     "data": {
      "text/html": [
       "<div>\n",
       "<style scoped>\n",
       "    .dataframe tbody tr th:only-of-type {\n",
       "        vertical-align: middle;\n",
       "    }\n",
       "\n",
       "    .dataframe tbody tr th {\n",
       "        vertical-align: top;\n",
       "    }\n",
       "\n",
       "    .dataframe thead th {\n",
       "        text-align: right;\n",
       "    }\n",
       "</style>\n",
       "<table border=\"1\" class=\"dataframe\">\n",
       "  <thead>\n",
       "    <tr style=\"text-align: right;\">\n",
       "      <th></th>\n",
       "      <th>Num_Kids</th>\n",
       "      <th>Loan_ID</th>\n",
       "      <th>Gender</th>\n",
       "      <th>Married</th>\n",
       "      <th>Dependent_No</th>\n",
       "      <th>Education</th>\n",
       "      <th>Self_Employed</th>\n",
       "      <th>Applicant_Income</th>\n",
       "      <th>CoApplicant_Income</th>\n",
       "      <th>Loan_Amount</th>\n",
       "      <th>Loan_Amount_Term</th>\n",
       "      <th>Credit History</th>\n",
       "      <th>Property_District</th>\n",
       "      <th>Loan_Status</th>\n",
       "    </tr>\n",
       "  </thead>\n",
       "  <tbody>\n",
       "    <tr>\n",
       "      <th>2914</th>\n",
       "      <td>-</td>\n",
       "      <td>23067</td>\n",
       "      <td>Male</td>\n",
       "      <td>False</td>\n",
       "      <td>0</td>\n",
       "      <td>Graduate</td>\n",
       "      <td>True</td>\n",
       "      <td>-50000</td>\n",
       "      <td>47086.0</td>\n",
       "      <td>50000</td>\n",
       "      <td>60</td>\n",
       "      <td>1</td>\n",
       "      <td>OCR</td>\n",
       "      <td>1</td>\n",
       "    </tr>\n",
       "    <tr>\n",
       "      <th>3518</th>\n",
       "      <td>-</td>\n",
       "      <td>23753</td>\n",
       "      <td>Female</td>\n",
       "      <td>True</td>\n",
       "      <td>0</td>\n",
       "      <td>Graduate</td>\n",
       "      <td>False</td>\n",
       "      <td>500000</td>\n",
       "      <td>13660.0</td>\n",
       "      <td>10000</td>\n",
       "      <td>300</td>\n",
       "      <td>0</td>\n",
       "      <td>CCR</td>\n",
       "      <td>0</td>\n",
       "    </tr>\n",
       "  </tbody>\n",
       "</table>\n",
       "</div>"
      ],
      "text/plain": [
       "     Num_Kids  Loan_ID  Gender Married  Dependent_No Education  Self_Employed  \\\n",
       "2914        -    23067    Male   False             0  Graduate           True   \n",
       "3518        -    23753  Female    True             0  Graduate          False   \n",
       "\n",
       "      Applicant_Income  CoApplicant_Income  Loan_Amount  Loan_Amount_Term  \\\n",
       "2914            -50000             47086.0        50000                60   \n",
       "3518            500000             13660.0        10000               300   \n",
       "\n",
       "      Credit History Property_District  Loan_Status  \n",
       "2914               1               OCR            1  \n",
       "3518               0               CCR            0  "
      ]
     },
     "execution_count": 20,
     "metadata": {},
     "output_type": "execute_result"
    }
   ],
   "source": [
    "df.loc[\n",
    "    (df['Applicant_Income'] > 200000) | (df['Applicant_Income'] < 0)\n",
    "]"
   ]
  },
  {
   "cell_type": "code",
   "execution_count": 21,
   "metadata": {},
   "outputs": [
    {
     "name": "stdout",
     "output_type": "stream",
     "text": [
      "51426.0\n"
     ]
    }
   ],
   "source": [
    "median_app_income = df['Applicant_Income'].median()\n",
    "print(median_app_income)"
   ]
  },
  {
   "cell_type": "code",
   "execution_count": 22,
   "metadata": {},
   "outputs": [],
   "source": [
    "df.loc[(df['Applicant_Income'] > 200000) | (df['Applicant_Income'] < 0), 'Applicant_Income'] = median_app_income"
   ]
  },
  {
   "cell_type": "code",
   "execution_count": 23,
   "metadata": {},
   "outputs": [
    {
     "data": {
      "image/png": "[encoded data removed]",
      "text/plain": [
       "<Figure size 640x480 with 1 Axes>"
      ]
     },
     "metadata": {},
     "output_type": "display_data"
    }
   ],
   "source": [
    "fig, ax = plt.subplots()\n",
    "\n",
    "data = df['Applicant_Income']\n",
    "ax.set_title('Applicant Income')\n",
    "ax.boxplot(data)\n",
    "\n",
    "plt.show()"
   ]
  },
  {
   "cell_type": "code",
   "execution_count": 24,
   "metadata": {},
   "outputs": [
    {
     "data": {
      "text/plain": [
       "count     4833.000000\n",
       "mean     50914.946203\n",
       "std      28552.897565\n",
       "min       1002.000000\n",
       "25%      26461.000000\n",
       "50%      51426.000000\n",
       "75%      76092.000000\n",
       "max      99987.000000\n",
       "Name: Applicant_Income, dtype: float64"
      ]
     },
     "execution_count": 24,
     "metadata": {},
     "output_type": "execute_result"
    }
   ],
   "source": [
    "df['Applicant_Income'].describe()"
   ]
  },
  {
   "cell_type": "code",
   "execution_count": 25,
   "metadata": {},
   "outputs": [
    {
     "name": "stdout",
     "output_type": "stream",
     "text": [
      "<class 'pandas.core.series.Series'>\n",
      "Index: 4833 entries, 0 to 4837\n",
      "Series name: CoApplicant_Income\n",
      "Non-Null Count  Dtype  \n",
      "--------------  -----  \n",
      "4326 non-null   float64\n",
      "dtypes: float64(1)\n",
      "memory usage: 204.6 KB\n"
     ]
    }
   ],
   "source": [
    "#Co-Applicant\n",
    "df[\"CoApplicant_Income\"].info()"
   ]
  },
  {
   "cell_type": "code",
   "execution_count": 26,
   "metadata": {},
   "outputs": [
    {
     "data": {
      "text/plain": [
       "507"
      ]
     },
     "execution_count": 26,
     "metadata": {},
     "output_type": "execute_result"
    }
   ],
   "source": [
    "df[\"CoApplicant_Income\"].isna().sum()"
   ]
  },
  {
   "cell_type": "code",
   "execution_count": 27,
   "metadata": {},
   "outputs": [
    {
     "name": "stdout",
     "output_type": "stream",
     "text": [
      "51426.0\n"
     ]
    }
   ],
   "source": [
    "median_co_income = df['Applicant_Income'].median()\n",
    "print(median_co_income)"
   ]
  },
  {
   "cell_type": "code",
   "execution_count": 28,
   "metadata": {},
   "outputs": [],
   "source": [
    "df['CoApplicant_Income'] = df['CoApplicant_Income'].fillna(median_co_income)"
   ]
  },
  {
   "cell_type": "code",
   "execution_count": 29,
   "metadata": {},
   "outputs": [
    {
     "data": {
      "text/plain": [
       "0"
      ]
     },
     "execution_count": 29,
     "metadata": {},
     "output_type": "execute_result"
    }
   ],
   "source": [
    "df[\"CoApplicant_Income\"].isna().sum()"
   ]
  },
  {
   "cell_type": "code",
   "execution_count": 30,
   "metadata": {},
   "outputs": [
    {
     "data": {
      "text/plain": [
       "27824.0"
      ]
     },
     "execution_count": 30,
     "metadata": {},
     "output_type": "execute_result"
    }
   ],
   "source": [
    "df[\"CoApplicant_Income\"].median()"
   ]
  },
  {
   "cell_type": "code",
   "execution_count": 31,
   "metadata": {},
   "outputs": [
    {
     "data": {
      "image/png": "[encoded data removed]",
      "text/plain": [
       "<Figure size 640x480 with 1 Axes>"
      ]
     },
     "metadata": {},
     "output_type": "display_data"
    }
   ],
   "source": [
    "fig, ax = plt.subplots()\n",
    "\n",
    "data = df['CoApplicant_Income']\n",
    "ax.set_title('CoApplicant Income')\n",
    "data = data.apply(int)\n",
    "ax.boxplot(data)\n",
    "\n",
    "plt.show()"
   ]
  },
  {
   "cell_type": "markdown",
   "metadata": {},
   "source": [
    "### [KR10] Co-Auftragsteller Vergleich\n"
   ]
  },
  {
   "cell_type": "code",
   "execution_count": 32,
   "metadata": {},
   "outputs": [
    {
     "data": {
      "image/png": "[encoded data removed]",
      "text/plain": [
       "<Figure size 640x480 with 1 Axes>"
      ]
     },
     "metadata": {},
     "output_type": "display_data"
    }
   ],
   "source": [
    "fig, ax = plt.subplots()\n",
    "ax.boxplot(\n",
    "    df[['Applicant_Income', 'CoApplicant_Income']],\n",
    "    labels=['Antragssteller', 'Co-Antragssteller']\n",
    "    )\n",
    "ax.set_title('Gegenüberstellung Einkommen')\n",
    "ax.set_ylabel(\"Einkommen\")\n",
    "\n",
    "plt.show()"
   ]
  },
  {
   "cell_type": "markdown",
   "metadata": {},
   "source": [
    "### [KR11] Verteilung der Kredithöhe zum Bildungsabschluss\n"
   ]
  },
  {
   "cell_type": "code",
   "execution_count": 33,
   "metadata": {},
   "outputs": [
    {
     "data": {
      "text/plain": [
       "array([30000, 50000, 10000, 60000, 40000, 20000])"
      ]
     },
     "execution_count": 33,
     "metadata": {},
     "output_type": "execute_result"
    }
   ],
   "source": [
    "education=df['Education']\n",
    "education.sample(3)\n",
    "education.unique()\n",
    "LoanAmount = df['Loan_Amount']\n",
    "LoanAmount.unique()"
   ]
  },
  {
   "cell_type": "code",
   "execution_count": 34,
   "metadata": {},
   "outputs": [
    {
     "data": {
      "image/png": "[encoded data removed]",
      "text/plain": [
       "<Figure size 640x480 with 1 Axes>"
      ]
     },
     "metadata": {},
     "output_type": "display_data"
    }
   ],
   "source": [
    "fig, ax = plt.subplots()\n",
    "\n",
    "ax.scatter(LoanAmount, education)\n",
    "ax.set_title(\"Korrelation education LoanAmount\")\n",
    "ax.set_xlabel(\"LoanAmount\")\n",
    "ax.set_ylabel(\"Education (graduated)\")\n",
    "plt.show()"
   ]
  },
  {
   "cell_type": "code",
   "execution_count": 35,
   "metadata": {},
   "outputs": [
    {
     "data": {
      "text/html": [
       "<div>\n",
       "<style scoped>\n",
       "    .dataframe tbody tr th:only-of-type {\n",
       "        vertical-align: middle;\n",
       "    }\n",
       "\n",
       "    .dataframe tbody tr th {\n",
       "        vertical-align: top;\n",
       "    }\n",
       "\n",
       "    .dataframe thead th {\n",
       "        text-align: right;\n",
       "    }\n",
       "</style>\n",
       "<table border=\"1\" class=\"dataframe\">\n",
       "  <thead>\n",
       "    <tr style=\"text-align: right;\">\n",
       "      <th></th>\n",
       "      <th>Num_Kids</th>\n",
       "      <th>Loan_ID</th>\n",
       "      <th>Gender</th>\n",
       "      <th>Married</th>\n",
       "      <th>Dependent_No</th>\n",
       "      <th>Education</th>\n",
       "      <th>Self_Employed</th>\n",
       "      <th>Applicant_Income</th>\n",
       "      <th>CoApplicant_Income</th>\n",
       "      <th>Loan_Amount</th>\n",
       "      <th>Loan_Amount_Term</th>\n",
       "      <th>Credit History</th>\n",
       "      <th>Property_District</th>\n",
       "      <th>Loan_Status</th>\n",
       "    </tr>\n",
       "  </thead>\n",
       "  <tbody>\n",
       "    <tr>\n",
       "      <th>0</th>\n",
       "      <td>-</td>\n",
       "      <td>27471</td>\n",
       "      <td>Male</td>\n",
       "      <td>True</td>\n",
       "      <td>1</td>\n",
       "      <td>Not Graduate</td>\n",
       "      <td>True</td>\n",
       "      <td>4251</td>\n",
       "      <td>34868.0</td>\n",
       "      <td>30000</td>\n",
       "      <td>300</td>\n",
       "      <td>1</td>\n",
       "      <td>CCR</td>\n",
       "      <td>1</td>\n",
       "    </tr>\n",
       "    <tr>\n",
       "      <th>2</th>\n",
       "      <td>-</td>\n",
       "      <td>27473</td>\n",
       "      <td>Female</td>\n",
       "      <td>False</td>\n",
       "      <td>4</td>\n",
       "      <td>Not Graduate</td>\n",
       "      <td>True</td>\n",
       "      <td>68684</td>\n",
       "      <td>13669.0</td>\n",
       "      <td>50000</td>\n",
       "      <td>180</td>\n",
       "      <td>1</td>\n",
       "      <td>OCR</td>\n",
       "      <td>1</td>\n",
       "    </tr>\n",
       "    <tr>\n",
       "      <th>4</th>\n",
       "      <td>-</td>\n",
       "      <td>27475</td>\n",
       "      <td>Male</td>\n",
       "      <td>True</td>\n",
       "      <td>3</td>\n",
       "      <td>Not Graduate</td>\n",
       "      <td>True</td>\n",
       "      <td>65643</td>\n",
       "      <td>15199.0</td>\n",
       "      <td>60000</td>\n",
       "      <td>240</td>\n",
       "      <td>0</td>\n",
       "      <td>OCR</td>\n",
       "      <td>1</td>\n",
       "    </tr>\n",
       "    <tr>\n",
       "      <th>5</th>\n",
       "      <td>-</td>\n",
       "      <td>27476</td>\n",
       "      <td>Female</td>\n",
       "      <td>True</td>\n",
       "      <td>4</td>\n",
       "      <td>Not Graduate</td>\n",
       "      <td>False</td>\n",
       "      <td>14015</td>\n",
       "      <td>27503.0</td>\n",
       "      <td>40000</td>\n",
       "      <td>60</td>\n",
       "      <td>1</td>\n",
       "      <td>RCR</td>\n",
       "      <td>0</td>\n",
       "    </tr>\n",
       "    <tr>\n",
       "      <th>7</th>\n",
       "      <td>-</td>\n",
       "      <td>27479</td>\n",
       "      <td>Male</td>\n",
       "      <td>False</td>\n",
       "      <td>4</td>\n",
       "      <td>Not Graduate</td>\n",
       "      <td>True</td>\n",
       "      <td>74074</td>\n",
       "      <td>26090.0</td>\n",
       "      <td>40000</td>\n",
       "      <td>120</td>\n",
       "      <td>1</td>\n",
       "      <td>RCR</td>\n",
       "      <td>1</td>\n",
       "    </tr>\n",
       "    <tr>\n",
       "      <th>...</th>\n",
       "      <td>...</td>\n",
       "      <td>...</td>\n",
       "      <td>...</td>\n",
       "      <td>...</td>\n",
       "      <td>...</td>\n",
       "      <td>...</td>\n",
       "      <td>...</td>\n",
       "      <td>...</td>\n",
       "      <td>...</td>\n",
       "      <td>...</td>\n",
       "      <td>...</td>\n",
       "      <td>...</td>\n",
       "      <td>...</td>\n",
       "      <td>...</td>\n",
       "    </tr>\n",
       "    <tr>\n",
       "      <th>4831</th>\n",
       "      <td>-</td>\n",
       "      <td>25229</td>\n",
       "      <td>Male</td>\n",
       "      <td>True</td>\n",
       "      <td>1</td>\n",
       "      <td>Not Graduate</td>\n",
       "      <td>False</td>\n",
       "      <td>33958</td>\n",
       "      <td>38272.0</td>\n",
       "      <td>50000</td>\n",
       "      <td>120</td>\n",
       "      <td>0</td>\n",
       "      <td>CCR</td>\n",
       "      <td>1</td>\n",
       "    </tr>\n",
       "    <tr>\n",
       "      <th>4832</th>\n",
       "      <td>-</td>\n",
       "      <td>25230</td>\n",
       "      <td>Female</td>\n",
       "      <td>True</td>\n",
       "      <td>1</td>\n",
       "      <td>Not Graduate</td>\n",
       "      <td>True</td>\n",
       "      <td>60519</td>\n",
       "      <td>5421.0</td>\n",
       "      <td>50000</td>\n",
       "      <td>240</td>\n",
       "      <td>1</td>\n",
       "      <td>OCR</td>\n",
       "      <td>1</td>\n",
       "    </tr>\n",
       "    <tr>\n",
       "      <th>4833</th>\n",
       "      <td>-</td>\n",
       "      <td>25231</td>\n",
       "      <td>Female</td>\n",
       "      <td>True</td>\n",
       "      <td>0</td>\n",
       "      <td>Not Graduate</td>\n",
       "      <td>True</td>\n",
       "      <td>74961</td>\n",
       "      <td>18796.0</td>\n",
       "      <td>20000</td>\n",
       "      <td>240</td>\n",
       "      <td>0</td>\n",
       "      <td>CCR</td>\n",
       "      <td>0</td>\n",
       "    </tr>\n",
       "    <tr>\n",
       "      <th>4834</th>\n",
       "      <td>-</td>\n",
       "      <td>25232</td>\n",
       "      <td>Male</td>\n",
       "      <td>False</td>\n",
       "      <td>3</td>\n",
       "      <td>Not Graduate</td>\n",
       "      <td>True</td>\n",
       "      <td>59475</td>\n",
       "      <td>9950.0</td>\n",
       "      <td>10000</td>\n",
       "      <td>60</td>\n",
       "      <td>0</td>\n",
       "      <td>CCR</td>\n",
       "      <td>1</td>\n",
       "    </tr>\n",
       "    <tr>\n",
       "      <th>4836</th>\n",
       "      <td>-</td>\n",
       "      <td>25234</td>\n",
       "      <td>Female</td>\n",
       "      <td>False</td>\n",
       "      <td>0</td>\n",
       "      <td>Not Graduate</td>\n",
       "      <td>False</td>\n",
       "      <td>98394</td>\n",
       "      <td>19963.0</td>\n",
       "      <td>40000</td>\n",
       "      <td>120</td>\n",
       "      <td>1</td>\n",
       "      <td>OCR</td>\n",
       "      <td>1</td>\n",
       "    </tr>\n",
       "  </tbody>\n",
       "</table>\n",
       "<p>2855 rows × 14 columns</p>\n",
       "</div>"
      ],
      "text/plain": [
       "     Num_Kids  Loan_ID  Gender Married  Dependent_No     Education  \\\n",
       "0           -    27471    Male    True             1  Not Graduate   \n",
       "2           -    27473  Female   False             4  Not Graduate   \n",
       "4           -    27475    Male    True             3  Not Graduate   \n",
       "5           -    27476  Female    True             4  Not Graduate   \n",
       "7           -    27479    Male   False             4  Not Graduate   \n",
       "...       ...      ...     ...     ...           ...           ...   \n",
       "4831        -    25229    Male    True             1  Not Graduate   \n",
       "4832        -    25230  Female    True             1  Not Graduate   \n",
       "4833        -    25231  Female    True             0  Not Graduate   \n",
       "4834        -    25232    Male   False             3  Not Graduate   \n",
       "4836        -    25234  Female   False             0  Not Graduate   \n",
       "\n",
       "      Self_Employed  Applicant_Income  CoApplicant_Income  Loan_Amount  \\\n",
       "0              True              4251             34868.0        30000   \n",
       "2              True             68684             13669.0        50000   \n",
       "4              True             65643             15199.0        60000   \n",
       "5             False             14015             27503.0        40000   \n",
       "7              True             74074             26090.0        40000   \n",
       "...             ...               ...                 ...          ...   \n",
       "4831          False             33958             38272.0        50000   \n",
       "4832           True             60519              5421.0        50000   \n",
       "4833           True             74961             18796.0        20000   \n",
       "4834           True             59475              9950.0        10000   \n",
       "4836          False             98394             19963.0        40000   \n",
       "\n",
       "      Loan_Amount_Term  Credit History Property_District  Loan_Status  \n",
       "0                  300               1               CCR            1  \n",
       "2                  180               1               OCR            1  \n",
       "4                  240               0               OCR            1  \n",
       "5                   60               1               RCR            0  \n",
       "7                  120               1               RCR            1  \n",
       "...                ...             ...               ...          ...  \n",
       "4831               120               0               CCR            1  \n",
       "4832               240               1               OCR            1  \n",
       "4833               240               0               CCR            0  \n",
       "4834                60               0               CCR            1  \n",
       "4836               120               1               OCR            1  \n",
       "\n",
       "[2855 rows x 14 columns]"
      ]
     },
     "execution_count": 35,
     "metadata": {},
     "output_type": "execute_result"
    }
   ],
   "source": [
    "df_graduated = df[df['Education'] == 'Graduate']\n",
    "df_graduated\n",
    "df_notGraduate = df[df['Education'] != 'Graduate']\n",
    "df_notGraduate"
   ]
  },
  {
   "cell_type": "code",
   "execution_count": 36,
   "metadata": {},
   "outputs": [
    {
     "data": {
      "image/png": "[encoded data removed]",
      "text/plain": [
       "<Figure size 1300x500 with 2 Axes>"
      ]
     },
     "metadata": {},
     "output_type": "display_data"
    }
   ],
   "source": [
    "fig, (ax, bx) = plt.subplots(ncols=2, figsize=(13,5))\n",
    "ax.boxplot(df_graduated['Loan_Amount'])\n",
    "ax.set_title(\"Graduated\")\n",
    "ax.set_ylabel(\"LoanAmount\")\n",
    "bx.boxplot(df_notGraduate['Loan_Amount'])\n",
    "bx.set_title(\"not Graduated\")\n",
    "bx.set_ylabel(\"LoanAmount\")\n",
    "plt.show()"
   ]
  },
  {
   "cell_type": "code",
   "execution_count": 37,
   "metadata": {},
   "outputs": [
    {
     "name": "stdout",
     "output_type": "stream",
     "text": [
      "Average loan of graduated: 34651.16279069767\n",
      "Average loan of not graduated: 35870.40280210158\n"
     ]
    }
   ],
   "source": [
    "averageGraduated = df_graduated['Loan_Amount'].mean()\n",
    "averageNotGraduate = df_notGraduate['Loan_Amount'].mean()\n",
    "print(\"Average loan of graduated:\", averageGraduated)\n",
    "print(\"Average loan of not graduated:\",averageNotGraduate)"
   ]
  },
  {
   "cell_type": "markdown",
   "metadata": {},
   "source": [
    "### [KR12] Kreditstatus basierend auf Kredithöhe\n"
   ]
  },
  {
   "cell_type": "code",
   "execution_count": 38,
   "metadata": {},
   "outputs": [
    {
     "data": {
      "text/plain": [
       "Index(['Num_Kids', 'Loan_ID', 'Gender', 'Married', 'Dependent_No', 'Education',\n",
       "       'Self_Employed', 'Applicant_Income', 'CoApplicant_Income',\n",
       "       'Loan_Amount', 'Loan_Amount_Term', 'Credit History',\n",
       "       'Property_District', 'Loan_Status'],\n",
       "      dtype='object')"
      ]
     },
     "execution_count": 38,
     "metadata": {},
     "output_type": "execute_result"
    }
   ],
   "source": [
    "df.keys()"
   ]
  },
  {
   "cell_type": "code",
   "execution_count": 39,
   "metadata": {},
   "outputs": [
    {
     "data": {
      "text/plain": [
       "array([1, 0])"
      ]
     },
     "execution_count": 39,
     "metadata": {},
     "output_type": "execute_result"
    }
   ],
   "source": [
    "df['Loan_Status'].unique()"
   ]
  },
  {
   "cell_type": "code",
   "execution_count": 40,
   "metadata": {},
   "outputs": [
    {
     "data": {
      "text/plain": [
       "array([30000, 50000, 10000, 60000, 40000, 20000])"
      ]
     },
     "execution_count": 40,
     "metadata": {},
     "output_type": "execute_result"
    }
   ],
   "source": [
    "df['Loan_Amount'].unique()"
   ]
  },
  {
   "cell_type": "code",
   "execution_count": 41,
   "metadata": {},
   "outputs": [],
   "source": [
    "loanGranted = df[df['Loan_Status']==1]\n",
    "loanNotGranted = df[df['Loan_Status']==0]"
   ]
  },
  {
   "cell_type": "code",
   "execution_count": 42,
   "metadata": {},
   "outputs": [
    {
     "data": {
      "image/png": "[encoded data removed]",
      "text/plain": [
       "<Figure size 640x480 with 1 Axes>"
      ]
     },
     "metadata": {},
     "output_type": "display_data"
    }
   ],
   "source": [
    "fig, ax = plt.subplots()\n",
    "ax.boxplot([loanGranted['Loan_Amount'],loanNotGranted['Loan_Amount']],\n",
    "labels = [\"granted loans\", \"not granted loans\"])\n",
    "ax.set_title(\"Granted Loans vs. Not-granted Loans\")\n",
    "ax.set_ylabel(\"Loan Amount\")\n",
    "plt.show()"
   ]
  },
  {
   "cell_type": "markdown",
   "metadata": {},
   "source": [
    "### [KR13] Visualisierung der Zielvariable\n"
   ]
  },
  {
   "cell_type": "code",
   "execution_count": 43,
   "metadata": {},
   "outputs": [
    {
     "data": {
      "text/html": [
       "<div>\n",
       "<style scoped>\n",
       "    .dataframe tbody tr th:only-of-type {\n",
       "        vertical-align: middle;\n",
       "    }\n",
       "\n",
       "    .dataframe tbody tr th {\n",
       "        vertical-align: top;\n",
       "    }\n",
       "\n",
       "    .dataframe thead th {\n",
       "        text-align: right;\n",
       "    }\n",
       "</style>\n",
       "<table border=\"1\" class=\"dataframe\">\n",
       "  <thead>\n",
       "    <tr style=\"text-align: right;\">\n",
       "      <th></th>\n",
       "      <th>Num_Kids</th>\n",
       "      <th>Loan_ID</th>\n",
       "      <th>Gender</th>\n",
       "      <th>Married</th>\n",
       "      <th>Dependent_No</th>\n",
       "      <th>Education</th>\n",
       "      <th>Self_Employed</th>\n",
       "      <th>Applicant_Income</th>\n",
       "      <th>CoApplicant_Income</th>\n",
       "      <th>Loan_Amount</th>\n",
       "      <th>Loan_Amount_Term</th>\n",
       "      <th>Credit History</th>\n",
       "      <th>Property_District</th>\n",
       "      <th>Loan_Status</th>\n",
       "    </tr>\n",
       "  </thead>\n",
       "  <tbody>\n",
       "  </tbody>\n",
       "</table>\n",
       "</div>"
      ],
      "text/plain": [
       "Empty DataFrame\n",
       "Columns: [Num_Kids, Loan_ID, Gender, Married, Dependent_No, Education, Self_Employed, Applicant_Income, CoApplicant_Income, Loan_Amount, Loan_Amount_Term, Credit History, Property_District, Loan_Status]\n",
       "Index: []"
      ]
     },
     "execution_count": 43,
     "metadata": {},
     "output_type": "execute_result"
    }
   ],
   "source": [
    "df.loc[\n",
    "    (df['Applicant_Income'] > 200000) | (df['Applicant_Income'] < 0)\n",
    "]"
   ]
  },
  {
   "cell_type": "code",
   "execution_count": 44,
   "metadata": {},
   "outputs": [],
   "source": [
    "total_income_median = df['Applicant_Income'].median()\n",
    "df.loc[(df['Applicant_Income'] > 200000) | (df['Applicant_Income'] < 0), 'Applicant_Income'] = total_income_median"
   ]
  },
  {
   "cell_type": "code",
   "execution_count": 45,
   "metadata": {},
   "outputs": [
    {
     "data": {
      "text/html": [
       "<div>\n",
       "<style scoped>\n",
       "    .dataframe tbody tr th:only-of-type {\n",
       "        vertical-align: middle;\n",
       "    }\n",
       "\n",
       "    .dataframe tbody tr th {\n",
       "        vertical-align: top;\n",
       "    }\n",
       "\n",
       "    .dataframe thead th {\n",
       "        text-align: right;\n",
       "    }\n",
       "</style>\n",
       "<table border=\"1\" class=\"dataframe\">\n",
       "  <thead>\n",
       "    <tr style=\"text-align: right;\">\n",
       "      <th></th>\n",
       "      <th>Num_Kids</th>\n",
       "      <th>Loan_ID</th>\n",
       "      <th>Gender</th>\n",
       "      <th>Married</th>\n",
       "      <th>Dependent_No</th>\n",
       "      <th>Education</th>\n",
       "      <th>Self_Employed</th>\n",
       "      <th>Applicant_Income</th>\n",
       "      <th>CoApplicant_Income</th>\n",
       "      <th>Loan_Amount</th>\n",
       "      <th>Loan_Amount_Term</th>\n",
       "      <th>Credit History</th>\n",
       "      <th>Property_District</th>\n",
       "      <th>Loan_Status</th>\n",
       "    </tr>\n",
       "  </thead>\n",
       "  <tbody>\n",
       "    <tr>\n",
       "      <th>2914</th>\n",
       "      <td>-</td>\n",
       "      <td>23067</td>\n",
       "      <td>Male</td>\n",
       "      <td>False</td>\n",
       "      <td>0</td>\n",
       "      <td>Graduate</td>\n",
       "      <td>True</td>\n",
       "      <td>51426</td>\n",
       "      <td>47086.0</td>\n",
       "      <td>50000</td>\n",
       "      <td>60</td>\n",
       "      <td>1</td>\n",
       "      <td>OCR</td>\n",
       "      <td>1</td>\n",
       "    </tr>\n",
       "    <tr>\n",
       "      <th>3518</th>\n",
       "      <td>-</td>\n",
       "      <td>23753</td>\n",
       "      <td>Female</td>\n",
       "      <td>True</td>\n",
       "      <td>0</td>\n",
       "      <td>Graduate</td>\n",
       "      <td>False</td>\n",
       "      <td>51426</td>\n",
       "      <td>13660.0</td>\n",
       "      <td>10000</td>\n",
       "      <td>300</td>\n",
       "      <td>0</td>\n",
       "      <td>CCR</td>\n",
       "      <td>0</td>\n",
       "    </tr>\n",
       "  </tbody>\n",
       "</table>\n",
       "</div>"
      ],
      "text/plain": [
       "     Num_Kids  Loan_ID  Gender Married  Dependent_No Education  Self_Employed  \\\n",
       "2914        -    23067    Male   False             0  Graduate           True   \n",
       "3518        -    23753  Female    True             0  Graduate          False   \n",
       "\n",
       "      Applicant_Income  CoApplicant_Income  Loan_Amount  Loan_Amount_Term  \\\n",
       "2914             51426             47086.0        50000                60   \n",
       "3518             51426             13660.0        10000               300   \n",
       "\n",
       "      Credit History Property_District  Loan_Status  \n",
       "2914               1               OCR            1  \n",
       "3518               0               CCR            0  "
      ]
     },
     "execution_count": 45,
     "metadata": {},
     "output_type": "execute_result"
    }
   ],
   "source": [
    "df.loc[[2914, 3518]]"
   ]
  },
  {
   "cell_type": "code",
   "execution_count": 46,
   "metadata": {},
   "outputs": [
    {
     "data": {
      "image/png": "[encoded data removed]",
      "text/plain": [
       "<Figure size 640x480 with 1 Axes>"
      ]
     },
     "metadata": {},
     "output_type": "display_data"
    }
   ],
   "source": [
    "no_loan_status_df = df[df[\"Loan_Status\"] == 0]\n",
    "loan_status_df = df[df[\"Loan_Status\"] == 1]\n",
    "\n",
    "fig, ax = plt.subplots()\n",
    "\n",
    "ax.scatter(loan_status_df[\"Applicant_Income\"], loan_status_df[\"CoApplicant_Income\"], c=\"g\", s=1, label=\"Loan_Status\")\n",
    "ax.scatter(no_loan_status_df[\"Applicant_Income\"], no_loan_status_df[\"CoApplicant_Income\"], c=\"r\", s=1, label=\"No_Loan_Status\")\n",
    "ax.set_xlabel(\"Applicant_Income (in Dollar)\")\n",
    "ax.set_ylabel(\"CoApplicant_Income (in Dollar)\")\n",
    "ax.set_title(\"Loan_Status by Applicant_Income and CoApplicant_Income\")\n",
    "ax.legend()\n",
    "plt.show()"
   ]
  },
  {
   "cell_type": "markdown",
   "metadata": {},
   "source": [
    "### [KR14] Höhe des Kredits basierend auf Ehestatus\n"
   ]
  },
  {
   "cell_type": "code",
   "execution_count": 47,
   "metadata": {},
   "outputs": [
    {
     "data": {
      "text/plain": [
       "array([True, False], dtype=object)"
      ]
     },
     "execution_count": 47,
     "metadata": {},
     "output_type": "execute_result"
    }
   ],
   "source": [
    "# Vereinheitlichung auf True und False\n",
    " \n",
    "df.loc[df['Married'] == 'True', 'Married'] = True\n",
    "df.loc[df['Married'] == 'False', 'Married'] = False\n",
    "\n",
    "df.loc[df['Married'] == 'Yes', 'Married'] = True\n",
    "df.loc[df['Married'] == 'No', 'Married'] = False\n",
    "\n",
    "df['Married'].unique()"
   ]
  },
  {
   "cell_type": "code",
   "execution_count": 48,
   "metadata": {},
   "outputs": [
    {
     "data": {
      "image/png": "[encoded data removed]",
      "text/plain": [
       "<Figure size 500x600 with 1 Axes>"
      ]
     },
     "metadata": {},
     "output_type": "display_data"
    }
   ],
   "source": [
    "not_married_df = df[df[\"Married\"] == False]['Loan_Amount']\n",
    "married_df = df[df[\"Married\"] == True]['Loan_Amount']\n",
    "\n",
    "fig, ax = plt.subplots(figsize=(5,6))\n",
    "\n",
    "ax.boxplot([not_married_df, married_df])\n",
    "ax.set_ylabel('Loan_Amount')\n",
    "ax.set_xticklabels(['Not Married', 'Married'])\n",
    "ax.set_title('Box Plot: Loan_Amount and Married')\n",
    "plt.show()"
   ]
  },
  {
   "cell_type": "markdown",
   "metadata": {},
   "source": [
    "### [KR15] Standartisierung Gender\n"
   ]
  },
  {
   "cell_type": "code",
   "execution_count": 49,
   "metadata": {},
   "outputs": [
    {
     "name": "stdout",
     "output_type": "stream",
     "text": [
      "['Male' 'Female' 'm' 'M' 'female' 'male' 'F' '-' nan]\n",
      "['m' 'f' 'd']\n",
      "Anzahl Männer: \n",
      "3258\n",
      "Anzahl Frauen: \n",
      "1569\n",
      "Anzahl Divers: \n",
      "6\n"
     ]
    },
    {
     "data": {
      "text/plain": [
       "(None, None)"
      ]
     },
     "execution_count": 49,
     "metadata": {},
     "output_type": "execute_result"
    }
   ],
   "source": [
    "print(df[\"Gender\"].unique())\n",
    "df = df.replace(\"male\", \"m\").replace(\"M\", \"m\").replace(\"Male\", \"m\"). replace(\"female\", \"f\").replace(\"Female\", \"f\").replace(\"F\", \"f\").replace(\"-\", \"d\").replace(pd.NA, \"d\")\n",
    "print(df[\"Gender\"].unique())\n",
    "anzahl_m = df['Gender'].value_counts().get('m', 0)\n",
    "anzahl_f = df['Gender'].value_counts().get('f', 0)\n",
    "anzahl_d = df['Gender'].value_counts().get('d', 0)\n",
    "print(\"Anzahl Männer: \"), print(anzahl_m)\n",
    "print(\"Anzahl Frauen: \"), print(anzahl_f)\n",
    "print(\"Anzahl Divers: \"), print( anzahl_d)"
   ]
  },
  {
   "cell_type": "markdown",
   "metadata": {},
   "source": [
    "### [KR16] Irrelevante Spalten\n"
   ]
  },
  {
   "cell_type": "code",
   "execution_count": 50,
   "metadata": {},
   "outputs": [
    {
     "data": {
      "text/html": [
       "<div>\n",
       "<style scoped>\n",
       "    .dataframe tbody tr th:only-of-type {\n",
       "        vertical-align: middle;\n",
       "    }\n",
       "\n",
       "    .dataframe tbody tr th {\n",
       "        vertical-align: top;\n",
       "    }\n",
       "\n",
       "    .dataframe thead th {\n",
       "        text-align: right;\n",
       "    }\n",
       "</style>\n",
       "<table border=\"1\" class=\"dataframe\">\n",
       "  <thead>\n",
       "    <tr style=\"text-align: right;\">\n",
       "      <th></th>\n",
       "      <th>Loan_ID</th>\n",
       "      <th>Gender</th>\n",
       "      <th>Married</th>\n",
       "      <th>Dependent_No</th>\n",
       "      <th>Education</th>\n",
       "      <th>Self_Employed</th>\n",
       "      <th>Applicant_Income</th>\n",
       "      <th>CoApplicant_Income</th>\n",
       "      <th>Loan_Amount</th>\n",
       "      <th>Loan_Amount_Term</th>\n",
       "      <th>Credit History</th>\n",
       "      <th>Property_District</th>\n",
       "      <th>Loan_Status</th>\n",
       "    </tr>\n",
       "  </thead>\n",
       "  <tbody>\n",
       "    <tr>\n",
       "      <th>0</th>\n",
       "      <td>27471</td>\n",
       "      <td>m</td>\n",
       "      <td>True</td>\n",
       "      <td>1</td>\n",
       "      <td>Not Graduate</td>\n",
       "      <td>True</td>\n",
       "      <td>4251</td>\n",
       "      <td>34868.0</td>\n",
       "      <td>30000</td>\n",
       "      <td>300</td>\n",
       "      <td>1</td>\n",
       "      <td>CCR</td>\n",
       "      <td>1</td>\n",
       "    </tr>\n",
       "    <tr>\n",
       "      <th>1</th>\n",
       "      <td>27472</td>\n",
       "      <td>m</td>\n",
       "      <td>False</td>\n",
       "      <td>1</td>\n",
       "      <td>Graduate</td>\n",
       "      <td>False</td>\n",
       "      <td>23399</td>\n",
       "      <td>30710.0</td>\n",
       "      <td>30000</td>\n",
       "      <td>60</td>\n",
       "      <td>1</td>\n",
       "      <td>OCR</td>\n",
       "      <td>1</td>\n",
       "    </tr>\n",
       "    <tr>\n",
       "      <th>2</th>\n",
       "      <td>27473</td>\n",
       "      <td>f</td>\n",
       "      <td>False</td>\n",
       "      <td>4</td>\n",
       "      <td>Not Graduate</td>\n",
       "      <td>True</td>\n",
       "      <td>68684</td>\n",
       "      <td>13669.0</td>\n",
       "      <td>50000</td>\n",
       "      <td>180</td>\n",
       "      <td>1</td>\n",
       "      <td>OCR</td>\n",
       "      <td>1</td>\n",
       "    </tr>\n",
       "    <tr>\n",
       "      <th>3</th>\n",
       "      <td>27474</td>\n",
       "      <td>m</td>\n",
       "      <td>False</td>\n",
       "      <td>3</td>\n",
       "      <td>Graduate</td>\n",
       "      <td>True</td>\n",
       "      <td>19825</td>\n",
       "      <td>20862.0</td>\n",
       "      <td>10000</td>\n",
       "      <td>360</td>\n",
       "      <td>0</td>\n",
       "      <td>OCR</td>\n",
       "      <td>1</td>\n",
       "    </tr>\n",
       "    <tr>\n",
       "      <th>4</th>\n",
       "      <td>27475</td>\n",
       "      <td>m</td>\n",
       "      <td>True</td>\n",
       "      <td>3</td>\n",
       "      <td>Not Graduate</td>\n",
       "      <td>True</td>\n",
       "      <td>65643</td>\n",
       "      <td>15199.0</td>\n",
       "      <td>60000</td>\n",
       "      <td>240</td>\n",
       "      <td>0</td>\n",
       "      <td>OCR</td>\n",
       "      <td>1</td>\n",
       "    </tr>\n",
       "    <tr>\n",
       "      <th>...</th>\n",
       "      <td>...</td>\n",
       "      <td>...</td>\n",
       "      <td>...</td>\n",
       "      <td>...</td>\n",
       "      <td>...</td>\n",
       "      <td>...</td>\n",
       "      <td>...</td>\n",
       "      <td>...</td>\n",
       "      <td>...</td>\n",
       "      <td>...</td>\n",
       "      <td>...</td>\n",
       "      <td>...</td>\n",
       "      <td>...</td>\n",
       "    </tr>\n",
       "    <tr>\n",
       "      <th>4833</th>\n",
       "      <td>25231</td>\n",
       "      <td>f</td>\n",
       "      <td>True</td>\n",
       "      <td>0</td>\n",
       "      <td>Not Graduate</td>\n",
       "      <td>True</td>\n",
       "      <td>74961</td>\n",
       "      <td>18796.0</td>\n",
       "      <td>20000</td>\n",
       "      <td>240</td>\n",
       "      <td>0</td>\n",
       "      <td>CCR</td>\n",
       "      <td>0</td>\n",
       "    </tr>\n",
       "    <tr>\n",
       "      <th>4834</th>\n",
       "      <td>25232</td>\n",
       "      <td>m</td>\n",
       "      <td>False</td>\n",
       "      <td>3</td>\n",
       "      <td>Not Graduate</td>\n",
       "      <td>True</td>\n",
       "      <td>59475</td>\n",
       "      <td>9950.0</td>\n",
       "      <td>10000</td>\n",
       "      <td>60</td>\n",
       "      <td>0</td>\n",
       "      <td>CCR</td>\n",
       "      <td>1</td>\n",
       "    </tr>\n",
       "    <tr>\n",
       "      <th>4835</th>\n",
       "      <td>25233</td>\n",
       "      <td>m</td>\n",
       "      <td>True</td>\n",
       "      <td>1</td>\n",
       "      <td>Graduate</td>\n",
       "      <td>False</td>\n",
       "      <td>26043</td>\n",
       "      <td>43140.0</td>\n",
       "      <td>50000</td>\n",
       "      <td>240</td>\n",
       "      <td>1</td>\n",
       "      <td>OCR</td>\n",
       "      <td>1</td>\n",
       "    </tr>\n",
       "    <tr>\n",
       "      <th>4836</th>\n",
       "      <td>25234</td>\n",
       "      <td>f</td>\n",
       "      <td>False</td>\n",
       "      <td>0</td>\n",
       "      <td>Not Graduate</td>\n",
       "      <td>False</td>\n",
       "      <td>98394</td>\n",
       "      <td>19963.0</td>\n",
       "      <td>40000</td>\n",
       "      <td>120</td>\n",
       "      <td>1</td>\n",
       "      <td>OCR</td>\n",
       "      <td>1</td>\n",
       "    </tr>\n",
       "    <tr>\n",
       "      <th>4837</th>\n",
       "      <td>25235</td>\n",
       "      <td>f</td>\n",
       "      <td>True</td>\n",
       "      <td>1</td>\n",
       "      <td>Graduate</td>\n",
       "      <td>True</td>\n",
       "      <td>46783</td>\n",
       "      <td>7726.0</td>\n",
       "      <td>40000</td>\n",
       "      <td>60</td>\n",
       "      <td>1</td>\n",
       "      <td>OCR</td>\n",
       "      <td>1</td>\n",
       "    </tr>\n",
       "  </tbody>\n",
       "</table>\n",
       "<p>4833 rows × 13 columns</p>\n",
       "</div>"
      ],
      "text/plain": [
       "      Loan_ID Gender  Married  Dependent_No     Education  Self_Employed  \\\n",
       "0       27471      m     True             1  Not Graduate           True   \n",
       "1       27472      m    False             1      Graduate          False   \n",
       "2       27473      f    False             4  Not Graduate           True   \n",
       "3       27474      m    False             3      Graduate           True   \n",
       "4       27475      m     True             3  Not Graduate           True   \n",
       "...       ...    ...      ...           ...           ...            ...   \n",
       "4833    25231      f     True             0  Not Graduate           True   \n",
       "4834    25232      m    False             3  Not Graduate           True   \n",
       "4835    25233      m     True             1      Graduate          False   \n",
       "4836    25234      f    False             0  Not Graduate          False   \n",
       "4837    25235      f     True             1      Graduate           True   \n",
       "\n",
       "      Applicant_Income  CoApplicant_Income  Loan_Amount  Loan_Amount_Term  \\\n",
       "0                 4251             34868.0        30000               300   \n",
       "1                23399             30710.0        30000                60   \n",
       "2                68684             13669.0        50000               180   \n",
       "3                19825             20862.0        10000               360   \n",
       "4                65643             15199.0        60000               240   \n",
       "...                ...                 ...          ...               ...   \n",
       "4833             74961             18796.0        20000               240   \n",
       "4834             59475              9950.0        10000                60   \n",
       "4835             26043             43140.0        50000               240   \n",
       "4836             98394             19963.0        40000               120   \n",
       "4837             46783              7726.0        40000                60   \n",
       "\n",
       "      Credit History Property_District  Loan_Status  \n",
       "0                  1               CCR            1  \n",
       "1                  1               OCR            1  \n",
       "2                  1               OCR            1  \n",
       "3                  0               OCR            1  \n",
       "4                  0               OCR            1  \n",
       "...              ...               ...          ...  \n",
       "4833               0               CCR            0  \n",
       "4834               0               CCR            1  \n",
       "4835               1               OCR            1  \n",
       "4836               1               OCR            1  \n",
       "4837               1               OCR            1  \n",
       "\n",
       "[4833 rows x 13 columns]"
      ]
     },
     "execution_count": 50,
     "metadata": {},
     "output_type": "execute_result"
    }
   ],
   "source": [
    "df = df.drop(columns=[\"Num_Kids\"])\n",
    "df"
   ]
  },
  {
   "cell_type": "markdown",
   "metadata": {},
   "source": [
    "### [CR17] Plotting distribution of Applicant Income\n"
   ]
  },
  {
   "cell_type": "code",
   "execution_count": 51,
   "metadata": {},
   "outputs": [
    {
     "data": {
      "text/plain": [
       "array([ 4251, 23399, 68684, ..., 26043, 98394, 46783])"
      ]
     },
     "execution_count": 51,
     "metadata": {},
     "output_type": "execute_result"
    }
   ],
   "source": [
    "df['Applicant_Income'].unique()"
   ]
  },
  {
   "cell_type": "code",
   "execution_count": 52,
   "metadata": {},
   "outputs": [
    {
     "data": {
      "text/plain": [
       "69.5197813575388"
      ]
     },
     "execution_count": 52,
     "metadata": {},
     "output_type": "execute_result"
    }
   ],
   "source": [
    "import math\n",
    "math.sqrt(len(df['Applicant_Income']))"
   ]
  },
  {
   "cell_type": "code",
   "execution_count": 53,
   "metadata": {},
   "outputs": [
    {
     "data": {
      "image/png": "[encoded data removed]",
      "text/plain": [
       "<Figure size 600x400 with 1 Axes>"
      ]
     },
     "metadata": {},
     "output_type": "display_data"
    }
   ],
   "source": [
    "fig, ax = plt.subplots(figsize=(6,4))\n",
    "ax.hist(df['Applicant_Income'], bins=int(math.sqrt(len(df['Applicant_Income']))), density=False, edgecolor=\"black\")\n",
    "ax.axvline(df['Applicant_Income'].median(), color=\"orange\")\n",
    "ax.set_title(\"Contribution of Applicant Income\")\n",
    "ax.set_ylabel(\"Frequency\")\n",
    "ax.set_xlabel(\"Applicant Income in €\")\n",
    "\n",
    "plt.show()"
   ]
  },
  {
   "cell_type": "markdown",
   "metadata": {},
   "source": [
    "### [KR18] Contribution of female Co-Applicants Income\n"
   ]
  },
  {
   "cell_type": "code",
   "execution_count": 54,
   "metadata": {},
   "outputs": [
    {
     "data": {
      "text/plain": [
       "2       13669.0\n",
       "5       27503.0\n",
       "8       27701.0\n",
       "16      51426.0\n",
       "17      31183.0\n",
       "         ...   \n",
       "4830    51426.0\n",
       "4832     5421.0\n",
       "4833    18796.0\n",
       "4836    19963.0\n",
       "4837     7726.0\n",
       "Name: CoApplicant_Income, Length: 1569, dtype: float64"
      ]
     },
     "execution_count": 54,
     "metadata": {},
     "output_type": "execute_result"
    }
   ],
   "source": [
    "female = df[df['Gender']=='f']\n",
    "fCoApplicants = female['CoApplicant_Income']\n",
    "fCoApplicants"
   ]
  },
  {
   "cell_type": "code",
   "execution_count": 55,
   "metadata": {},
   "outputs": [
    {
     "data": {
      "image/png": "[encoded data removed]",
      "text/plain": [
       "<Figure size 600x400 with 2 Axes>"
      ]
     },
     "metadata": {},
     "output_type": "display_data"
    }
   ],
   "source": [
    "from tkinter import VERTICAL\n",
    "\n",
    "\n",
    "fig, ax = plt.subplots(2,1, figsize=(6,4))\n",
    "ax[0].hist(fCoApplicants, bins=int(math.sqrt(len(fCoApplicants))), density=False, edgecolor=\"black\")\n",
    "ax[0].axvline(fCoApplicants.median(), color=\"orange\")\n",
    "ax[0].set_title(\"Distribution of female Co-Applicant Income\")\n",
    "ax[0].set_ylabel(\"Frequency\")\n",
    "ax[0].set_xlabel(\"Co-Applicant Income in €\")\n",
    "\n",
    "ax[1].boxplot(fCoApplicants, vert=False)\n",
    "ax[1].set_yticklabels([\"female\"])\n",
    "ax[1].set_xlabel(\"Co-Applicant Income in €\")\n",
    "\n",
    "plt.show()"
   ]
  },
  {
   "cell_type": "markdown",
   "metadata": {},
   "source": [
    "# KR19\n",
    "#### Verteilung Property_District bei Education=Graduate die keinen Loan_Status=0 erhalten"
   ]
  },
  {
   "cell_type": "code",
   "execution_count": 56,
   "metadata": {},
   "outputs": [
    {
     "data": {
      "image/png": "[encoded data removed]",
      "text/plain": [
       "<Figure size 600x400 with 1 Axes>"
      ]
     },
     "metadata": {},
     "output_type": "display_data"
    }
   ],
   "source": [
    "df_complete = df\n",
    "df_KR19 = df_complete[[\"Loan_Status\", \"Education\", \"Property_District\"]]\n",
    "df_KR19 = df_KR19[(df_KR19['Education'] == 'Graduate')]\n",
    "df_KR19 = df_KR19[df_KR19['Loan_Status'] != 0]\n",
    "\n",
    "df_KR19t = df_KR19.pivot_table(index=\"Property_District\", columns=\"Loan_Status\", aggfunc=\"size\")\n",
    "ax = df_KR19t.plot(kind='bar', figsize=(6, 4))\n",
    "ax.set_title(\"Verteilung der Erhaltenen Kredite von Absolventen pro Bezirk\")\n",
    "ax.set_xlabel(\"Bezirk\")\n",
    "ax.set_ylabel(\"Anzahl der Kreditnehmern\")\n",
    "ax.set_xticklabels(df_KR19t.index, rotation=.45)\n",
    "# Ledigliche horizontale Grid Linien\n",
    "ax.grid(axis='y')\n",
    "# Horizontale Grid Linie hinter Bars\n",
    "ax.set_axisbelow(True)\n",
    "ax.legend(labels=[\"Approved\"])\n",
    "plt.show()"
   ]
  },
  {
   "cell_type": "markdown",
   "metadata": {},
   "source": [
    "# KR20\n",
    "#### Verteilung Ziel Variable (Loan_Status) und Selbstständigkeit(Self_Employed)"
   ]
  },
  {
   "cell_type": "code",
   "execution_count": 57,
   "metadata": {},
   "outputs": [
    {
     "name": "stdout",
     "output_type": "stream",
     "text": [
      "2888\n",
      "3207\n"
     ]
    },
    {
     "data": {
      "image/png": "[encoded data removed]",
      "text/plain": [
       "<Figure size 1500x300 with 2 Axes>"
      ]
     },
     "metadata": {},
     "output_type": "display_data"
    }
   ],
   "source": [
    "df_KR20 = df_complete[[\"Loan_Status\", \"Self_Employed\"]]\n",
    "df_KR20 = df_KR20.replace(0, \"Rejected\").replace(1, \"Approved\").replace(True, \"Self_Employed\").replace(False, \"Not_Self_Employed\")\n",
    "#print(df_KR20)\n",
    "anzahl_l = df_KR20['Loan_Status'].value_counts().get(\"Approved\", 0)\n",
    "anzahl_s = df_KR20['Self_Employed'].value_counts().get(\"Self_Employed\", 0)\n",
    "print(anzahl_s)\n",
    "print(anzahl_l)\n",
    "\n",
    "df_KR20l = df_KR20[\"Loan_Status\"].value_counts()\n",
    "df_KR20s = df_KR20[\"Self_Employed\"].value_counts()\n",
    "\n",
    "fig, ax = plt.subplots(1,2, figsize=(15,3))\n",
    "\n",
    "ax[0].set_title(\"Verteilung von Variable 'Loan_Status'\")\n",
    "ax[0].set_xlabel(\"Self_Employed\")\n",
    "ax[0].set_ylabel(\"Häufigkeit\")\n",
    "ax[0].bar(df_KR20s.index, df_KR20s.values, tick_label=[\"Self_Employed\",\"Not_Self_Employed\"], color=\"navy\")\n",
    "\n",
    "ax[1].set_title(\"Verteilung von Variable 'Self_Employed'\")\n",
    "ax[1].set_xlabel(\"Häufigkeit\")\n",
    "ax[1].set_ylabel(\"Loan_Status\")\n",
    "ax[1].barh(df_KR20l.index, df_KR20l.values, tick_label=[\"Approved\",\"Rejected\"], color=\"navy\")\n",
    "\n",
    "plt.show()"
   ]
  },
  {
   "cell_type": "markdown",
   "metadata": {},
   "source": [
    "### [KR23] Verteilung des Einkommens aller verheirateter Antragssteller\n"
   ]
  },
  {
   "cell_type": "code",
   "execution_count": 58,
   "metadata": {},
   "outputs": [
    {
     "name": "stdout",
     "output_type": "stream",
     "text": [
      "<class 'pandas.core.series.Series'>\n",
      "Index: 4833 entries, 0 to 4837\n",
      "Series name: Married\n",
      "Non-Null Count  Dtype\n",
      "--------------  -----\n",
      "4833 non-null   bool \n",
      "dtypes: bool(1)\n",
      "memory usage: 171.5 KB\n"
     ]
    }
   ],
   "source": [
    "df['Married'].info()"
   ]
  },
  {
   "cell_type": "code",
   "execution_count": 59,
   "metadata": {},
   "outputs": [
    {
     "data": {
      "text/plain": [
       "array([ True, False])"
      ]
     },
     "execution_count": 59,
     "metadata": {},
     "output_type": "execute_result"
    }
   ],
   "source": [
    "df['Married'].unique()"
   ]
  },
  {
   "cell_type": "code",
   "execution_count": 60,
   "metadata": {},
   "outputs": [
    {
     "data": {
      "text/plain": [
       "0        4251\n",
       "4       65643\n",
       "5       14015\n",
       "6       69916\n",
       "8       31163\n",
       "        ...  \n",
       "4831    33958\n",
       "4832    60519\n",
       "4833    74961\n",
       "4835    26043\n",
       "4837    46783\n",
       "Name: Applicant_Income, Length: 2389, dtype: int64"
      ]
     },
     "execution_count": 60,
     "metadata": {},
     "output_type": "execute_result"
    }
   ],
   "source": [
    "unmarried_income_df = df[df[\"Married\"] == False]['Applicant_Income']\n",
    "married_income_df = df[df[\"Married\"] == True]['Applicant_Income']\n",
    "married_income_df"
   ]
  },
  {
   "cell_type": "code",
   "execution_count": 61,
   "metadata": {},
   "outputs": [
    {
     "data": {
      "image/png": "[encoded data removed]",
      "text/plain": [
       "<Figure size 700x700 with 2 Axes>"
      ]
     },
     "metadata": {},
     "output_type": "display_data"
    }
   ],
   "source": [
    "fig, ax = plt.subplots(2,1, figsize=(7,7))\n",
    "\n",
    "ax[0].hist(married_income_df, bins=70, edgecolor=\"black\") \n",
    "\n",
    "ax[0].axvline(married_income_df.median(), color=\"orange\", label=\"Median\")\n",
    "\n",
    "ax[0].set_title(\"EInkommen aller verheirateter Antragssteller\")\n",
    "ax[0].set_ylabel(\"Häufigkeit\")\n",
    "ax[0].set_xlabel(\"Einkommen\")\n",
    "ax[0].legend()\n",
    "\n",
    "ax[1].boxplot([married_income_df, unmarried_income_df], vert=False)\n",
    "ax[1].set_yticklabels([\"Verheiratet\", \"Unverheiratet\"])\n",
    "ax[1].set_xlabel(\"Einkommen\")\n",
    "plt.show()"
   ]
  },
  {
   "cell_type": "markdown",
   "metadata": {},
   "source": [
    "### [KR25] Integer Encoding"
   ]
  },
  {
   "cell_type": "code",
   "execution_count": 72,
   "metadata": {},
   "outputs": [
    {
     "data": {
      "text/html": [
       "<div>\n",
       "<style scoped>\n",
       "    .dataframe tbody tr th:only-of-type {\n",
       "        vertical-align: middle;\n",
       "    }\n",
       "\n",
       "    .dataframe tbody tr th {\n",
       "        vertical-align: top;\n",
       "    }\n",
       "\n",
       "    .dataframe thead th {\n",
       "        text-align: right;\n",
       "    }\n",
       "</style>\n",
       "<table border=\"1\" class=\"dataframe\">\n",
       "  <thead>\n",
       "    <tr style=\"text-align: right;\">\n",
       "      <th></th>\n",
       "      <th>Loan_ID</th>\n",
       "      <th>Gender</th>\n",
       "      <th>Married</th>\n",
       "      <th>Dependent_No</th>\n",
       "      <th>Education</th>\n",
       "      <th>Self_Employed</th>\n",
       "      <th>Applicant_Income</th>\n",
       "      <th>CoApplicant_Income</th>\n",
       "      <th>Loan_Amount</th>\n",
       "      <th>Loan_Amount_Term</th>\n",
       "      <th>Credit History</th>\n",
       "      <th>Property_District</th>\n",
       "      <th>Loan_Status</th>\n",
       "    </tr>\n",
       "  </thead>\n",
       "  <tbody>\n",
       "    <tr>\n",
       "      <th>0</th>\n",
       "      <td>27471</td>\n",
       "      <td>0</td>\n",
       "      <td>0</td>\n",
       "      <td>1</td>\n",
       "      <td>0</td>\n",
       "      <td>0</td>\n",
       "      <td>4251</td>\n",
       "      <td>34868.0</td>\n",
       "      <td>30000</td>\n",
       "      <td>300</td>\n",
       "      <td>1</td>\n",
       "      <td>0</td>\n",
       "      <td>1</td>\n",
       "    </tr>\n",
       "    <tr>\n",
       "      <th>1</th>\n",
       "      <td>27472</td>\n",
       "      <td>0</td>\n",
       "      <td>1</td>\n",
       "      <td>1</td>\n",
       "      <td>1</td>\n",
       "      <td>1</td>\n",
       "      <td>23399</td>\n",
       "      <td>30710.0</td>\n",
       "      <td>30000</td>\n",
       "      <td>60</td>\n",
       "      <td>1</td>\n",
       "      <td>1</td>\n",
       "      <td>1</td>\n",
       "    </tr>\n",
       "    <tr>\n",
       "      <th>2</th>\n",
       "      <td>27473</td>\n",
       "      <td>1</td>\n",
       "      <td>1</td>\n",
       "      <td>4</td>\n",
       "      <td>0</td>\n",
       "      <td>0</td>\n",
       "      <td>68684</td>\n",
       "      <td>13669.0</td>\n",
       "      <td>50000</td>\n",
       "      <td>180</td>\n",
       "      <td>1</td>\n",
       "      <td>1</td>\n",
       "      <td>1</td>\n",
       "    </tr>\n",
       "    <tr>\n",
       "      <th>3</th>\n",
       "      <td>27474</td>\n",
       "      <td>0</td>\n",
       "      <td>1</td>\n",
       "      <td>3</td>\n",
       "      <td>1</td>\n",
       "      <td>0</td>\n",
       "      <td>19825</td>\n",
       "      <td>20862.0</td>\n",
       "      <td>10000</td>\n",
       "      <td>360</td>\n",
       "      <td>0</td>\n",
       "      <td>1</td>\n",
       "      <td>1</td>\n",
       "    </tr>\n",
       "    <tr>\n",
       "      <th>4</th>\n",
       "      <td>27475</td>\n",
       "      <td>0</td>\n",
       "      <td>0</td>\n",
       "      <td>3</td>\n",
       "      <td>0</td>\n",
       "      <td>0</td>\n",
       "      <td>65643</td>\n",
       "      <td>15199.0</td>\n",
       "      <td>60000</td>\n",
       "      <td>240</td>\n",
       "      <td>0</td>\n",
       "      <td>1</td>\n",
       "      <td>1</td>\n",
       "    </tr>\n",
       "    <tr>\n",
       "      <th>...</th>\n",
       "      <td>...</td>\n",
       "      <td>...</td>\n",
       "      <td>...</td>\n",
       "      <td>...</td>\n",
       "      <td>...</td>\n",
       "      <td>...</td>\n",
       "      <td>...</td>\n",
       "      <td>...</td>\n",
       "      <td>...</td>\n",
       "      <td>...</td>\n",
       "      <td>...</td>\n",
       "      <td>...</td>\n",
       "      <td>...</td>\n",
       "    </tr>\n",
       "    <tr>\n",
       "      <th>4833</th>\n",
       "      <td>25231</td>\n",
       "      <td>1</td>\n",
       "      <td>0</td>\n",
       "      <td>0</td>\n",
       "      <td>0</td>\n",
       "      <td>0</td>\n",
       "      <td>74961</td>\n",
       "      <td>18796.0</td>\n",
       "      <td>20000</td>\n",
       "      <td>240</td>\n",
       "      <td>0</td>\n",
       "      <td>0</td>\n",
       "      <td>0</td>\n",
       "    </tr>\n",
       "    <tr>\n",
       "      <th>4834</th>\n",
       "      <td>25232</td>\n",
       "      <td>0</td>\n",
       "      <td>1</td>\n",
       "      <td>3</td>\n",
       "      <td>0</td>\n",
       "      <td>0</td>\n",
       "      <td>59475</td>\n",
       "      <td>9950.0</td>\n",
       "      <td>10000</td>\n",
       "      <td>60</td>\n",
       "      <td>0</td>\n",
       "      <td>0</td>\n",
       "      <td>1</td>\n",
       "    </tr>\n",
       "    <tr>\n",
       "      <th>4835</th>\n",
       "      <td>25233</td>\n",
       "      <td>0</td>\n",
       "      <td>0</td>\n",
       "      <td>1</td>\n",
       "      <td>1</td>\n",
       "      <td>1</td>\n",
       "      <td>26043</td>\n",
       "      <td>43140.0</td>\n",
       "      <td>50000</td>\n",
       "      <td>240</td>\n",
       "      <td>1</td>\n",
       "      <td>1</td>\n",
       "      <td>1</td>\n",
       "    </tr>\n",
       "    <tr>\n",
       "      <th>4836</th>\n",
       "      <td>25234</td>\n",
       "      <td>1</td>\n",
       "      <td>1</td>\n",
       "      <td>0</td>\n",
       "      <td>0</td>\n",
       "      <td>1</td>\n",
       "      <td>98394</td>\n",
       "      <td>19963.0</td>\n",
       "      <td>40000</td>\n",
       "      <td>120</td>\n",
       "      <td>1</td>\n",
       "      <td>1</td>\n",
       "      <td>1</td>\n",
       "    </tr>\n",
       "    <tr>\n",
       "      <th>4837</th>\n",
       "      <td>25235</td>\n",
       "      <td>1</td>\n",
       "      <td>0</td>\n",
       "      <td>1</td>\n",
       "      <td>1</td>\n",
       "      <td>0</td>\n",
       "      <td>46783</td>\n",
       "      <td>7726.0</td>\n",
       "      <td>40000</td>\n",
       "      <td>60</td>\n",
       "      <td>1</td>\n",
       "      <td>1</td>\n",
       "      <td>1</td>\n",
       "    </tr>\n",
       "  </tbody>\n",
       "</table>\n",
       "<p>4833 rows × 13 columns</p>\n",
       "</div>"
      ],
      "text/plain": [
       "      Loan_ID  Gender  Married  Dependent_No  Education  Self_Employed  \\\n",
       "0       27471       0        0             1          0              0   \n",
       "1       27472       0        1             1          1              1   \n",
       "2       27473       1        1             4          0              0   \n",
       "3       27474       0        1             3          1              0   \n",
       "4       27475       0        0             3          0              0   \n",
       "...       ...     ...      ...           ...        ...            ...   \n",
       "4833    25231       1        0             0          0              0   \n",
       "4834    25232       0        1             3          0              0   \n",
       "4835    25233       0        0             1          1              1   \n",
       "4836    25234       1        1             0          0              1   \n",
       "4837    25235       1        0             1          1              0   \n",
       "\n",
       "      Applicant_Income  CoApplicant_Income  Loan_Amount  Loan_Amount_Term  \\\n",
       "0                 4251             34868.0        30000               300   \n",
       "1                23399             30710.0        30000                60   \n",
       "2                68684             13669.0        50000               180   \n",
       "3                19825             20862.0        10000               360   \n",
       "4                65643             15199.0        60000               240   \n",
       "...                ...                 ...          ...               ...   \n",
       "4833             74961             18796.0        20000               240   \n",
       "4834             59475              9950.0        10000                60   \n",
       "4835             26043             43140.0        50000               240   \n",
       "4836             98394             19963.0        40000               120   \n",
       "4837             46783              7726.0        40000                60   \n",
       "\n",
       "      Credit History  Property_District  Loan_Status  \n",
       "0                  1                  0            1  \n",
       "1                  1                  1            1  \n",
       "2                  1                  1            1  \n",
       "3                  0                  1            1  \n",
       "4                  0                  1            1  \n",
       "...              ...                ...          ...  \n",
       "4833               0                  0            0  \n",
       "4834               0                  0            1  \n",
       "4835               1                  1            1  \n",
       "4836               1                  1            1  \n",
       "4837               1                  1            1  \n",
       "\n",
       "[4833 rows x 13 columns]"
      ]
     },
     "execution_count": 72,
     "metadata": {},
     "output_type": "execute_result"
    }
   ],
   "source": [
    "df_encoded = df\n",
    "df_encoded['Gender'] = pd.factorize(df['Gender'])[0]\n",
    "df_encoded['Married'] = pd.factorize(df['Married'])[0]\n",
    "df_encoded['Education'] = pd.factorize(df['Education'])[0]\n",
    "df_encoded['Self_Employed'] = pd.factorize(df['Self_Employed'])[0]\n",
    "df_encoded['Property_District'] = pd.factorize(df['Property_District'])[0]\n",
    "\n",
    "\n",
    "df_encoded"
   ]
  }
 ],
 "metadata": {
  "kernelspec": {
   "display_name": "base",
   "language": "python",
   "name": "python3"
  },
  "language_info": {
   "codemirror_mode": {
    "name": "ipython",
    "version": 3
   },
   "file_extension": ".py",
   "mimetype": "text/x-python",
   "name": "python",
   "nbconvert_exporter": "python",
   "pygments_lexer": "ipython3",
   "version": "3.11.7"
  }
 },
 "nbformat": 4,
 "nbformat_minor": 2
}
