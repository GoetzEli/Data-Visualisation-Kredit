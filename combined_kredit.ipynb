{
 "cells": [
  {
   "cell_type": "markdown",
   "metadata": {},
   "source": [
    "# Kreditwürdigkeit\n"
   ]
  },
  {
   "cell_type": "markdown",
   "metadata": {},
   "source": [
    "### [KR01] Einlesen der CSV Files\n"
   ]
  },
  {
   "cell_type": "code",
   "execution_count": null,
   "metadata": {},
   "outputs": [],
   "source": [
    "import pandas as pd\n",
    "import matplotlib.pyplot as plt"
   ]
  },
  {
   "cell_type": "code",
   "execution_count": null,
   "metadata": {},
   "outputs": [],
   "source": [
    "df0 = pd.read_csv('data/loan_approval_0.csv', delimiter='|')\n",
    "df1 = pd.read_csv('data/loan_approval_1.csv', delimiter='|')\n",
    "df2 = pd.read_csv('data/loan_approval_2.csv', delimiter='|')\n",
    "df3 = pd.read_csv('data/loan_approval_3.csv', delimiter='|')\n",
    "df4 = pd.read_csv('data/loan_approval_4.csv', delimiter='|')"
   ]
  },
  {
   "cell_type": "markdown",
   "metadata": {},
   "source": [
    "### [KR02] Zusammenfassung der DataFrames\n"
   ]
  },
  {
   "cell_type": "code",
   "execution_count": null,
   "metadata": {},
   "outputs": [],
   "source": [
    "frames = [df0, df1, df2, df3, df4]\n",
    "\n",
    "#Mergen der Frames\n",
    "df = pd.concat(frames, ignore_index=True)\n",
    "\n",
    "df"
   ]
  },
  {
   "cell_type": "markdown",
   "metadata": {},
   "source": [
    "### [KR03] Identifikation von Daten Problemen\n"
   ]
  },
  {
   "cell_type": "code",
   "execution_count": null,
   "metadata": {},
   "outputs": [],
   "source": [
    "df.info()"
   ]
  },
  {
   "cell_type": "code",
   "execution_count": null,
   "metadata": {},
   "outputs": [],
   "source": [
    "df.describe(include=\"all\")"
   ]
  },
  {
   "cell_type": "code",
   "execution_count": null,
   "metadata": {},
   "outputs": [],
   "source": [
    "print(df['Gender'].unique())\n",
    "print(df['Married'].unique())\n",
    "print(df['Education'].unique())"
   ]
  },
  {
   "cell_type": "code",
   "execution_count": null,
   "metadata": {},
   "outputs": [],
   "source": [
    "df.loc[\n",
    "    df['Gender'] == 'nan'\n",
    "]"
   ]
  },
  {
   "cell_type": "code",
   "execution_count": null,
   "metadata": {},
   "outputs": [],
   "source": [
    "duplicateRows = df[df.duplicated(keep='first')]\n",
    "\n",
    "duplicateRows"
   ]
  },
  {
   "cell_type": "code",
   "execution_count": null,
   "metadata": {},
   "outputs": [],
   "source": [
    "df = df.drop_duplicates()\n",
    "duplicateRows = df[df.duplicated()]\n",
    "\n",
    "duplicateRows"
   ]
  },
  {
   "cell_type": "code",
   "execution_count": null,
   "metadata": {},
   "outputs": [],
   "source": [
    "df[\"Loan_ID\"].duplicated().unique()"
   ]
  },
  {
   "cell_type": "code",
   "execution_count": null,
   "metadata": {},
   "outputs": [],
   "source": [
    "df.isna().sum()"
   ]
  },
  {
   "cell_type": "markdown",
   "metadata": {},
   "source": [
    "### [KR04] Visualisierung der Zielklasse\n"
   ]
  },
  {
   "cell_type": "code",
   "execution_count": null,
   "metadata": {},
   "outputs": [],
   "source": [
    "# Kredithistorie: Informationen wie die Person in der Vergangenheit mit Krediten und Schulden umgegangen ist (verspätete Zahlungen, Kreditlimits, etc.)\n",
    "# Lohnstatus: Informationen, wie viel Geld eine Person verdient. Gibt Kreditgebern Einblick in finanzielle Stabilität der Person und Ihre Fähigkeit, Kredite zurückzuzahlen.\n",
    "# CoApplicant_Income: Gehalt des Mitantragstellers (zweite Person) --> ergibt Gesamtkredidwürdigkeit\n",
    "# Loan Amount = Kreditbetrag\n",
    "# Loan Amount Term = Laufzeit des Kreditbetrags\n",
    "\n",
    "# WICHTIG für Zielklassenbestimmung\n",
    "# Incomes Zusammenrechnen\n",
    "\n",
    "urban_region = [(df['Loan_Status'] == 1)]"
   ]
  },
  {
   "cell_type": "markdown",
   "metadata": {},
   "source": [
    "### [KR05] Anzahl Duplikate\n"
   ]
  },
  {
   "cell_type": "code",
   "execution_count": null,
   "metadata": {},
   "outputs": [],
   "source": [
    "duplicateRows = df[df.duplicated(keep='first')]\n",
    "duplicateRows2 = df[df.duplicated(keep='last')]\n",
    "\n",
    "dfdp = pd.concat([duplicateRows, duplicateRows2], ignore_index=True).sort_values('Loan_ID')\n",
    "dfdp"
   ]
  },
  {
   "cell_type": "code",
   "execution_count": null,
   "metadata": {},
   "outputs": [],
   "source": [
    "# Duplikate rauswerfen\n",
    "\n",
    "print(df.shape)\n",
    "df = df.drop_duplicates()\n",
    "print(df.shape)"
   ]
  },
  {
   "cell_type": "markdown",
   "metadata": {},
   "source": [
    "### [KR06] Kredite in der urbanen Gegend\n"
   ]
  },
  {
   "cell_type": "code",
   "execution_count": null,
   "metadata": {},
   "outputs": [],
   "source": [
    "# Fragen ob was mit urban = städtisch alles gemeint ist (nur Core Central Region?)\n",
    "# Und mit Kredite, Historie oder Kreditwürdigkeit gefragt?\n",
    "\n",
    "urban_region = df.loc[(df['Property_District']  == 'CCR')]\n",
    "urban_region [(df['Credit History'] == 1)]\n"
   ]
  },
  {
   "cell_type": "markdown",
   "metadata": {},
   "source": [
    "### [KR07] Durchschnittseinkommen\n"
   ]
  },
  {
   "cell_type": "code",
   "execution_count": null,
   "metadata": {},
   "outputs": [],
   "source": [
    "average_loan = round(df['Loan_Amount'].mean())\n",
    "average_loan"
   ]
  },
  {
   "cell_type": "markdown",
   "metadata": {},
   "source": [
    "### [KR08] Bildungsstatus höchstes Einkommen\n"
   ]
  },
  {
   "cell_type": "code",
   "execution_count": null,
   "metadata": {},
   "outputs": [],
   "source": [
    "graduated_max_loan = df[df['Education'] == 'Graduate']['Loan_Amount'].max()\n",
    "not_graduated_max_loan = df[df['Education'] == 'Not Graduate']['Loan_Amount'].max()\n",
    "\n",
    "print('Höchstes Einkommen von Absolventen :', graduated_max_loan)\n",
    "print('Höchstes Einkommen von nicht-Absolventen:', not_graduated_max_loan)"
   ]
  },
  {
   "cell_type": "markdown",
   "metadata": {},
   "source": [
    "### [KR09] Identifikation von Ausreißern beim Einkommen\n"
   ]
  },
  {
   "cell_type": "code",
   "execution_count": null,
   "metadata": {},
   "outputs": [],
   "source": [
    "df['Applicant_Income'].describe()"
   ]
  },
  {
   "cell_type": "code",
   "execution_count": null,
   "metadata": {},
   "outputs": [],
   "source": [
    "fig, ax = plt.subplots()\n",
    "\n",
    "data = df['Applicant_Income']\n",
    "ax.set_title('Applicant Income')\n",
    "ax.boxplot(data)\n",
    "\n",
    "plt.show()"
   ]
  },
  {
   "cell_type": "code",
   "execution_count": null,
   "metadata": {},
   "outputs": [],
   "source": [
    "df.loc[\n",
    "    (df['Applicant_Income'] > 200000) | (df['Applicant_Income'] < 0)\n",
    "]"
   ]
  },
  {
   "cell_type": "code",
   "execution_count": null,
   "metadata": {},
   "outputs": [],
   "source": [
    "median_app_income = df['Applicant_Income'].median()\n",
    "print(median_app_income)"
   ]
  },
  {
   "cell_type": "code",
   "execution_count": null,
   "metadata": {},
   "outputs": [],
   "source": [
    "df.loc[(df['Applicant_Income'] > 200000) | (df['Applicant_Income'] < 0), 'Applicant_Income'] = median_app_income"
   ]
  },
  {
   "cell_type": "code",
   "execution_count": null,
   "metadata": {},
   "outputs": [],
   "source": [
    "fig, ax = plt.subplots()\n",
    "\n",
    "data = df['Applicant_Income']\n",
    "ax.set_title('Applicant Income')\n",
    "ax.boxplot(data)\n",
    "\n",
    "plt.show()"
   ]
  },
  {
   "cell_type": "code",
   "execution_count": null,
   "metadata": {},
   "outputs": [],
   "source": [
    "df['Applicant_Income'].describe()"
   ]
  },
  {
   "cell_type": "code",
   "execution_count": null,
   "metadata": {},
   "outputs": [],
   "source": [
    "#Co-Applicant\n",
    "df[\"CoApplicant_Income\"].info()"
   ]
  },
  {
   "cell_type": "code",
   "execution_count": null,
   "metadata": {},
   "outputs": [],
   "source": [
    "df[\"CoApplicant_Income\"].isna().sum()"
   ]
  },
  {
   "cell_type": "code",
   "execution_count": null,
   "metadata": {},
   "outputs": [],
   "source": [
    "median_co_income = df['Applicant_Income'].median()\n",
    "print(median_co_income)"
   ]
  },
  {
   "cell_type": "code",
   "execution_count": null,
   "metadata": {},
   "outputs": [],
   "source": [
    "df['CoApplicant_Income'] = df['CoApplicant_Income'].fillna(median_co_income)"
   ]
  },
  {
   "cell_type": "code",
   "execution_count": null,
   "metadata": {},
   "outputs": [],
   "source": [
    "df[\"CoApplicant_Income\"].isna().sum()"
   ]
  },
  {
   "cell_type": "code",
   "execution_count": null,
   "metadata": {},
   "outputs": [],
   "source": [
    "df[\"CoApplicant_Income\"].median()"
   ]
  },
  {
   "cell_type": "code",
   "execution_count": null,
   "metadata": {},
   "outputs": [],
   "source": [
    "fig, ax = plt.subplots()\n",
    "\n",
    "data = df['CoApplicant_Income']\n",
    "ax.set_title('CoApplicant Income')\n",
    "data = data.apply(int)\n",
    "ax.boxplot(data)\n",
    "\n",
    "plt.show()"
   ]
  },
  {
   "cell_type": "markdown",
   "metadata": {},
   "source": [
    "### [KR10] Co-Auftragsteller Vergleich\n"
   ]
  },
  {
   "cell_type": "code",
   "execution_count": null,
   "metadata": {},
   "outputs": [],
   "source": [
    "fig, ax = plt.subplots()\n",
    "ax.boxplot(\n",
    "    df[['Applicant_Income', 'CoApplicant_Income']],\n",
    "    labels=['Antragssteller', 'Co-Antragssteller']\n",
    "    )\n",
    "ax.set_title('Gegenüberstellung Einkommen')\n",
    "ax.set_ylabel(\"Einkommen\")\n",
    "\n",
    "plt.show()"
   ]
  },
  {
   "cell_type": "markdown",
   "metadata": {},
   "source": [
    "### [KR11] Verteilung der Kredithöhe zum Bildungsabschluss\n"
   ]
  },
  {
   "cell_type": "code",
   "execution_count": null,
   "metadata": {},
   "outputs": [],
   "source": [
    "education=df['Education']\n",
    "education.sample(3)\n",
    "education.unique()\n",
    "LoanAmount = df['Loan_Amount']\n",
    "LoanAmount.unique()"
   ]
  },
  {
   "cell_type": "code",
   "execution_count": null,
   "metadata": {},
   "outputs": [],
   "source": [
    "fig, ax = plt.subplots()\n",
    "\n",
    "ax.scatter(LoanAmount, education)\n",
    "ax.set_title(\"Korrelation education LoanAmount\")\n",
    "ax.set_xlabel(\"LoanAmount\")\n",
    "ax.set_ylabel(\"Education (graduated)\")\n",
    "plt.show()"
   ]
  },
  {
   "cell_type": "code",
   "execution_count": null,
   "metadata": {},
   "outputs": [],
   "source": [
    "df_graduated = df[df['Education'] == 'Graduate']\n",
    "df_graduated\n",
    "df_notGraduate = df[df['Education'] != 'Graduate']\n",
    "df_notGraduate"
   ]
  },
  {
   "cell_type": "code",
   "execution_count": null,
   "metadata": {},
   "outputs": [],
   "source": [
    "fig, (ax, bx) = plt.subplots(ncols=2, figsize=(13,5))\n",
    "ax.boxplot(df_graduated['Loan_Amount'])\n",
    "ax.set_title(\"Graduated\")\n",
    "ax.set_ylabel(\"LoanAmount\")\n",
    "bx.boxplot(df_notGraduate['Loan_Amount'])\n",
    "bx.set_title(\"not Graduated\")\n",
    "bx.set_ylabel(\"LoanAmount\")\n",
    "plt.show()"
   ]
  },
  {
   "cell_type": "code",
   "execution_count": null,
   "metadata": {},
   "outputs": [],
   "source": [
    "averageGraduated = df_graduated['Loan_Amount'].mean()\n",
    "averageNotGraduate = df_notGraduate['Loan_Amount'].mean()\n",
    "print(\"Average loan of graduated:\", averageGraduated)\n",
    "print(\"Average loan of not graduated:\",averageNotGraduate)"
   ]
  },
  {
   "cell_type": "markdown",
   "metadata": {},
   "source": [
    "### [KR12] Kreditstatus basierend auf Kredithöhe\n"
   ]
  },
  {
   "cell_type": "code",
   "execution_count": null,
   "metadata": {},
   "outputs": [],
   "source": [
    "df.keys()"
   ]
  },
  {
   "cell_type": "code",
   "execution_count": null,
   "metadata": {},
   "outputs": [],
   "source": [
    "df['Loan_Status'].unique()"
   ]
  },
  {
   "cell_type": "code",
   "execution_count": null,
   "metadata": {},
   "outputs": [],
   "source": [
    "df['Loan_Amount'].unique()"
   ]
  },
  {
   "cell_type": "code",
   "execution_count": null,
   "metadata": {},
   "outputs": [],
   "source": [
    "loanGranted = df[df['Loan_Status']==1]\n",
    "loanNotGranted = df[df['Loan_Status']==0]"
   ]
  },
  {
   "cell_type": "code",
   "execution_count": null,
   "metadata": {},
   "outputs": [],
   "source": [
    "fig, ax = plt.subplots()\n",
    "ax.boxplot([loanGranted['Loan_Amount'],loanNotGranted['Loan_Amount']],\n",
    "labels = [\"granted loans\", \"not granted loans\"])\n",
    "ax.set_title(\"Granted Loans vs. Not-granted Loans\")\n",
    "ax.set_ylabel(\"Loan Amount\")\n",
    "plt.show()"
   ]
  },
  {
   "cell_type": "markdown",
   "metadata": {},
   "source": [
    "### [KR13] Visualisierung der Zielvariable\n"
   ]
  },
  {
   "cell_type": "code",
   "execution_count": null,
   "metadata": {},
   "outputs": [],
   "source": [
    "df.loc[\n",
    "    (df['Applicant_Income'] > 200000) | (df['Applicant_Income'] < 0)\n",
    "]"
   ]
  },
  {
   "cell_type": "code",
   "execution_count": null,
   "metadata": {},
   "outputs": [],
   "source": [
    "total_income_median = df['Applicant_Income'].median()\n",
    "df.loc[(df['Applicant_Income'] > 200000) | (df['Applicant_Income'] < 0), 'Applicant_Income'] = total_income_median"
   ]
  },
  {
   "cell_type": "code",
   "execution_count": null,
   "metadata": {},
   "outputs": [],
   "source": [
    "df.loc[[2914, 3518]]"
   ]
  },
  {
   "cell_type": "code",
   "execution_count": null,
   "metadata": {},
   "outputs": [],
   "source": [
    "no_loan_status_df = df[df[\"Loan_Status\"] == 0]\n",
    "loan_status_df = df[df[\"Loan_Status\"] == 1]\n",
    "\n",
    "fig, ax = plt.subplots()\n",
    "\n",
    "ax.scatter(loan_status_df[\"Applicant_Income\"], loan_status_df[\"CoApplicant_Income\"], c=\"g\", s=1, label=\"Loan_Status\")\n",
    "ax.scatter(no_loan_status_df[\"Applicant_Income\"], no_loan_status_df[\"CoApplicant_Income\"], c=\"r\", s=1, label=\"No_Loan_Status\")\n",
    "ax.set_xlabel(\"Applicant_Income (in Dollar)\")\n",
    "ax.set_ylabel(\"CoApplicant_Income (in Dollar)\")\n",
    "ax.set_title(\"Loan_Status by Applicant_Income and CoApplicant_Income\")\n",
    "ax.legend()\n",
    "plt.show()"
   ]
  },
  {
   "cell_type": "markdown",
   "metadata": {},
   "source": [
    "### [KR14] Höhe des Kredits basierend auf Ehestatus\n"
   ]
  },
  {
   "cell_type": "code",
   "execution_count": null,
   "metadata": {},
   "outputs": [],
   "source": [
    "# Vereinheitlichung auf True und False\n",
    " \n",
    "df.loc[df['Married'] == 'True', 'Married'] = True\n",
    "df.loc[df['Married'] == 'False', 'Married'] = False\n",
    "\n",
    "df.loc[df['Married'] == 'Yes', 'Married'] = True\n",
    "df.loc[df['Married'] == 'No', 'Married'] = False\n",
    "\n",
    "df['Married'].unique()"
   ]
  },
  {
   "cell_type": "code",
   "execution_count": null,
   "metadata": {},
   "outputs": [],
   "source": [
    "not_married_df = df[df[\"Married\"] == False]['Loan_Amount']\n",
    "married_df = df[df[\"Married\"] == True]['Loan_Amount']\n",
    "\n",
    "fig, ax = plt.subplots(figsize=(5,6))\n",
    "\n",
    "ax.boxplot([not_married_df, married_df])\n",
    "ax.set_ylabel('Loan_Amount')\n",
    "ax.set_xticklabels(['Not Married', 'Married'])\n",
    "ax.set_title('Box Plot: Loan_Amount and Married')\n",
    "plt.show()"
   ]
  },
  {
   "cell_type": "markdown",
   "metadata": {},
   "source": [
    "### [KR15] Standartisierung Gender\n"
   ]
  },
  {
   "cell_type": "code",
   "execution_count": null,
   "metadata": {},
   "outputs": [],
   "source": [
    "print(df[\"Gender\"].unique())\n",
    "df = df.replace(\"male\", \"m\").replace(\"M\", \"m\").replace(\"Male\", \"m\"). replace(\"female\", \"f\").replace(\"Female\", \"f\").replace(\"F\", \"f\").replace(\"-\", \"d\").replace(pd.NA, \"d\")\n",
    "print(df[\"Gender\"].unique())\n",
    "anzahl_m = df['Gender'].value_counts().get('m', 0)\n",
    "anzahl_f = df['Gender'].value_counts().get('f', 0)\n",
    "anzahl_d = df['Gender'].value_counts().get('d', 0)\n",
    "print(\"Anzahl Männer: \"), print(anzahl_m)\n",
    "print(\"Anzahl Frauen: \"), print(anzahl_f)\n",
    "print(\"Anzahl Divers: \"), print( anzahl_d)"
   ]
  },
  {
   "cell_type": "markdown",
   "metadata": {},
   "source": [
    "### [KR16] Irrelevante Spalten\n"
   ]
  },
  {
   "cell_type": "code",
   "execution_count": null,
   "metadata": {},
   "outputs": [],
   "source": [
    "df = df.drop(columns=[\"Num_Kids\"])\n",
    "df"
   ]
  },
  {
   "cell_type": "markdown",
   "metadata": {},
   "source": [
    "### [CR17] Plotting distribution of Applicant Income\n"
   ]
  },
  {
   "cell_type": "code",
   "execution_count": null,
   "metadata": {},
   "outputs": [],
   "source": [
    "df['Applicant_Income'].unique()"
   ]
  },
  {
   "cell_type": "code",
   "execution_count": null,
   "metadata": {},
   "outputs": [],
   "source": [
    "import math\n",
    "math.sqrt(len(df['Applicant_Income']))"
   ]
  },
  {
   "cell_type": "code",
   "execution_count": null,
   "metadata": {},
   "outputs": [],
   "source": [
    "fig, ax = plt.subplots(figsize=(6,4))\n",
    "ax.hist(df['Applicant_Income'], bins=int(math.sqrt(len(df['Applicant_Income']))), density=False, edgecolor=\"black\")\n",
    "ax.axvline(df['Applicant_Income'].median(), color=\"orange\")\n",
    "ax.set_title(\"Contribution of Applicant Income\")\n",
    "ax.set_ylabel(\"Frequency\")\n",
    "ax.set_xlabel(\"Applicant Income in €\")\n",
    "\n",
    "plt.show()"
   ]
  },
  {
   "cell_type": "markdown",
   "metadata": {},
   "source": [
    "### [KR18] Contribution of female Co-Applicants Income\n"
   ]
  },
  {
   "cell_type": "code",
   "execution_count": null,
   "metadata": {},
   "outputs": [],
   "source": [
    "female = df[df['Gender']=='f']\n",
    "fCoApplicants = female['CoApplicant_Income']\n",
    "fCoApplicants"
   ]
  },
  {
   "cell_type": "code",
   "execution_count": null,
   "metadata": {},
   "outputs": [],
   "source": [
    "from tkinter import VERTICAL\n",
    "\n",
    "\n",
    "fig, ax = plt.subplots(2,1, figsize=(6,4))\n",
    "ax[0].hist(fCoApplicants, bins=int(math.sqrt(len(fCoApplicants))), density=False, edgecolor=\"black\")\n",
    "ax[0].axvline(fCoApplicants.median(), color=\"orange\")\n",
    "ax[0].set_title(\"Distribution of female Co-Applicant Income\")\n",
    "ax[0].set_ylabel(\"Frequency\")\n",
    "ax[0].set_xlabel(\"Co-Applicant Income in €\")\n",
    "\n",
    "ax[1].boxplot(fCoApplicants, vert=False)\n",
    "ax[1].set_yticklabels([\"female\"])\n",
    "ax[1].set_xlabel(\"Co-Applicant Income in €\")\n",
    "\n",
    "plt.show()"
   ]
  },
  {
   "cell_type": "markdown",
   "metadata": {},
   "source": [
    "# KR19\n",
    "\n",
    "#### Verteilung Property_District bei Education=Graduate die keinen Loan_Status=0 erhalten\n"
   ]
  },
  {
   "cell_type": "code",
   "execution_count": null,
   "metadata": {},
   "outputs": [],
   "source": [
    "df_complete = df\n",
    "df_KR19 = df_complete[[\"Loan_Status\", \"Education\", \"Property_District\"]]\n",
    "df_KR19 = df_KR19[(df_KR19['Education'] == 'Graduate')]\n",
    "df_KR19 = df_KR19[df_KR19['Loan_Status'] != 0]\n",
    "\n",
    "df_KR19t = df_KR19.pivot_table(index=\"Property_District\", columns=\"Loan_Status\", aggfunc=\"size\")\n",
    "ax = df_KR19t.plot(kind='bar', figsize=(6, 4))\n",
    "ax.set_title(\"Verteilung der Erhaltenen Kredite von Absolventen pro Bezirk\")\n",
    "ax.set_xlabel(\"Bezirk\")\n",
    "ax.set_ylabel(\"Anzahl der Kreditnehmern\")\n",
    "ax.set_xticklabels(df_KR19t.index, rotation=.45)\n",
    "# Ledigliche horizontale Grid Linien\n",
    "ax.grid(axis='y')\n",
    "# Horizontale Grid Linie hinter Bars\n",
    "ax.set_axisbelow(True)\n",
    "ax.legend(labels=[\"Approved\"])\n",
    "plt.show()"
   ]
  },
  {
   "cell_type": "markdown",
   "metadata": {},
   "source": [
    "# KR20\n",
    "\n",
    "#### Verteilung Ziel Variable (Loan_Status) und Selbstständigkeit(Self_Employed)\n"
   ]
  },
  {
   "cell_type": "code",
   "execution_count": null,
   "metadata": {},
   "outputs": [],
   "source": [
    "df_KR20 = df_complete[[\"Loan_Status\", \"Self_Employed\"]]\n",
    "df_KR20 = df_KR20.replace(0, \"Rejected\").replace(1, \"Approved\").replace(True, \"Self_Employed\").replace(False, \"Not_Self_Employed\")\n",
    "#print(df_KR20)\n",
    "anzahl_l = df_KR20['Loan_Status'].value_counts().get(\"Approved\", 0)\n",
    "anzahl_s = df_KR20['Self_Employed'].value_counts().get(\"Self_Employed\", 0)\n",
    "print(anzahl_s)\n",
    "print(anzahl_l)\n",
    "\n",
    "df_KR20l = df_KR20[\"Loan_Status\"].value_counts()\n",
    "df_KR20s = df_KR20[\"Self_Employed\"].value_counts()\n",
    "\n",
    "fig, ax = plt.subplots(1,2, figsize=(15,3))\n",
    "\n",
    "ax[0].set_title(\"Verteilung von Variable 'Loan_Status'\")\n",
    "ax[0].set_xlabel(\"Self_Employed\")\n",
    "ax[0].set_ylabel(\"Häufigkeit\")\n",
    "ax[0].bar(df_KR20s.index, df_KR20s.values, tick_label=[\"Self_Employed\",\"Not_Self_Employed\"], color=\"navy\")\n",
    "\n",
    "ax[1].set_title(\"Verteilung von Variable 'Self_Employed'\")\n",
    "ax[1].set_xlabel(\"Häufigkeit\")\n",
    "ax[1].set_ylabel(\"Loan_Status\")\n",
    "ax[1].barh(df_KR20l.index, df_KR20l.values, tick_label=[\"Approved\",\"Rejected\"], color=\"navy\")\n",
    "\n",
    "plt.show()"
   ]
  },
  {
   "cell_type": "markdown",
   "metadata": {},
   "source": [
    "# KR21 Verteilung der Selbstständigkeit je Property District\n"
   ]
  },
  {
   "cell_type": "code",
   "execution_count": null,
   "metadata": {},
   "outputs": [],
   "source": [
    "df_KR21 = df_complete[[\"Property_District\", \"Self_Employed\"]]\n",
    "df_KR21 = df_KR21.replace(True, \"Self_Employed\").replace(False, \"Not_Self_Employed\")\n",
    "# print(df_KR21)\n",
    "\n",
    "df_temp = df_KR21.pivot_table(index=\"Property_District\", columns=\"Self_Employed\", aggfunc=\"size\")\n",
    "ax = df_temp.plot(kind='bar', figsize=(6, 4))\n",
    "ax.set_title(\"Verteilung von Employment je District\")\n",
    "ax.set_xlabel(\"Property_District\")\n",
    "ax.set_ylabel(\"Anzahl\")\n",
    "ax.set_xticklabels(df_temp.index, rotation=.45)\n",
    "# Ledigliche horizontale Grid Linien\n",
    "ax.grid(axis='y')\n",
    "# Horizontale Grid Linie hinter Bars\n",
    "ax.set_axisbelow(True)\n",
    "plt.show()"
   ]
  },
  {
   "cell_type": "markdown",
   "metadata": {},
   "source": [
    "### [KR23] Verteilung des Einkommens aller verheirateter Antragssteller\n"
   ]
  },
  {
   "cell_type": "code",
   "execution_count": null,
   "metadata": {},
   "outputs": [],
   "source": [
    "df['Married'].info()"
   ]
  },
  {
   "cell_type": "code",
   "execution_count": null,
   "metadata": {},
   "outputs": [],
   "source": [
    "df['Married'].unique()"
   ]
  },
  {
   "cell_type": "code",
   "execution_count": null,
   "metadata": {},
   "outputs": [],
   "source": [
    "unmarried_income_df = df[df[\"Married\"] == False]['Applicant_Income']\n",
    "married_income_df = df[df[\"Married\"] == True]['Applicant_Income']\n",
    "married_income_df"
   ]
  },
  {
   "cell_type": "code",
   "execution_count": null,
   "metadata": {},
   "outputs": [],
   "source": [
    "fig, ax = plt.subplots(2,1, figsize=(7,7))\n",
    "\n",
    "ax[0].hist(married_income_df, bins=70, edgecolor=\"black\") \n",
    "\n",
    "ax[0].axvline(married_income_df.median(), color=\"orange\", label=\"Median\")\n",
    "\n",
    "ax[0].set_title(\"EInkommen aller verheirateter Antragssteller\")\n",
    "ax[0].set_ylabel(\"Häufigkeit\")\n",
    "ax[0].set_xlabel(\"Einkommen\")\n",
    "ax[0].legend()\n",
    "\n",
    "ax[1].boxplot([married_income_df, unmarried_income_df], vert=False)\n",
    "ax[1].set_yticklabels([\"Verheiratet\", \"Unverheiratet\"])\n",
    "ax[1].set_xlabel(\"Einkommen\")\n",
    "plt.show()"
   ]
  },
  {
   "cell_type": "markdown",
   "metadata": {},
   "source": [
    "### [KR25] Integer Encoding\n"
   ]
  },
  {
   "cell_type": "code",
   "execution_count": null,
   "metadata": {},
   "outputs": [],
   "source": [
    "df_encoded = df\n",
    "df_encoded['Gender'] = pd.factorize(df['Gender'])[0]\n",
    "df_encoded['Married'] = pd.factorize(df['Married'])[0]\n",
    "df_encoded['Education'] = pd.factorize(df['Education'])[0]\n",
    "df_encoded['Self_Employed'] = pd.factorize(df['Self_Employed'])[0]\n",
    "df_encoded['Property_District'] = pd.factorize(df['Property_District'])[0]\n",
    "\n",
    "\n",
    "df_encoded"
   ]
  },
  {
   "cell_type": "markdown",
   "metadata": {},
   "source": [
    "### [KR26] X und y Erstellung\n"
   ]
  },
  {
   "cell_type": "code",
   "execution_count": null,
   "metadata": {},
   "outputs": [],
   "source": [
    "df_encoded = df_encoded.drop(columns=['Loan_ID'])\n"
   ]
  },
  {
   "cell_type": "code",
   "execution_count": null,
   "metadata": {},
   "outputs": [],
   "source": [
    "feature_columns = [\n",
    "    \"Gender\",\n",
    "    \"Married\",\n",
    "    \"Dependent_No\",\n",
    "    \"Education\",\n",
    "    \"Self_Employed\",\n",
    "    \"Applicant_Income\",\n",
    "    \"CoApplicant_Income\",\n",
    "    \"Loan_Amount\",\n",
    "    \"Loan_Amount_Term\",\n",
    "    \"Credit History\",\n",
    "    \"Property_District\",\n",
    "]\n",
    "target_value = 'Loan_Status'\n",
    "\n",
    "X = df_encoded[feature_columns]\n",
    "y = df_encoded[target_value]"
   ]
  },
  {
   "cell_type": "code",
   "execution_count": null,
   "metadata": {},
   "outputs": [],
   "source": [
    "X"
   ]
  },
  {
   "cell_type": "code",
   "execution_count": null,
   "metadata": {},
   "outputs": [],
   "source": [
    "y"
   ]
  }
 ],
 "metadata": {
  "kernelspec": {
   "display_name": "base",
   "language": "python",
   "name": "python3"
  },
  "language_info": {
   "codemirror_mode": {
    "name": "ipython",
    "version": 3
   },
   "file_extension": ".py",
   "mimetype": "text/x-python",
   "name": "python",
   "nbconvert_exporter": "python",
   "pygments_lexer": "ipython3",
   "version": "3.11.5"
  }
 },
 "nbformat": 4,
 "nbformat_minor": 2
}
